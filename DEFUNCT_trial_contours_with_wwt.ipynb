{
 "cells": [
  {
   "cell_type": "code",
   "execution_count": 13,
   "id": "a3869586-a88e-4ac9-bd93-cfd10e4afe34",
   "metadata": {},
   "outputs": [],
   "source": [
    "#!conda env list\n",
    "# hacks: \n",
    "# 1. installed libdiff\n",
    "# 2. in /opt/anaconda3/FullProcess/lib copied /opt/anaconda3/FullProcess/lib/libtiff.5.dylib to the full process directory"
   ]
  },
  {
   "cell_type": "code",
   "execution_count": 14,
   "id": "e8fa7287-725e-446b-84c4-90be2cd4b80b",
   "metadata": {},
   "outputs": [],
   "source": [
    "from pywwt.jupyter import WWTJupyterWidget\n",
    "from astropy import units as u\n",
    "from astropy.coordinates import SkyCoord"
   ]
  },
  {
   "cell_type": "code",
   "execution_count": 15,
   "id": "98ac9b3b-6402-42bd-955f-c86805e338d5",
   "metadata": {},
   "outputs": [],
   "source": [
    "wwt = WWTJupyterWidget()\n",
    "#wwt  # just \"print\" this variable on its own line"
   ]
  },
  {
   "cell_type": "code",
   "execution_count": 16,
   "id": "98fbbc95-2b41-4ea3-a699-dc4275ea960f",
   "metadata": {},
   "outputs": [],
   "source": [
    "wwt.constellation_boundaries = False\n",
    "wwt.constellation_figures = False"
   ]
  },
  {
   "cell_type": "code",
   "execution_count": 17,
   "id": "cb517e68-5bd7-4950-8d3d-c3a5e6b4f86d",
   "metadata": {},
   "outputs": [],
   "source": [
    "# wwt.local_horizon_mode = True\n",
    "# wwt.location_latitude = -33.4172 * u.deg\n",
    "# wwt.location_longitude = -70.604 * u.deg\n",
    "# wwt.location_altitude = 300 * u.meter"
   ]
  },
  {
   "cell_type": "code",
   "execution_count": 18,
   "id": "b9137f71-b5ff-4f39-b75a-2a7b26c0c785",
   "metadata": {},
   "outputs": [],
   "source": [
    "coord = SkyCoord.from_name('Alpha Centauri')\n",
    "wwt.center_on_coordinates(coord, fov=10 * u.deg)"
   ]
  },
  {
   "cell_type": "code",
   "execution_count": 19,
   "id": "1365ddd2-7af4-4315-be09-3375abc700ec",
   "metadata": {},
   "outputs": [
    {
     "data": {
      "application/vnd.jupyter.widget-view+json": {
       "model_id": "",
       "version_major": 2,
       "version_minor": 0
      },
      "text/plain": [
       "WWTJupyterWidget(layout=Layout(align_self='stretch', height='400px'))"
      ]
     },
     "execution_count": 19,
     "metadata": {},
     "output_type": "execute_result"
    }
   ],
   "source": [
    "wwt"
   ]
  },
  {
   "cell_type": "code",
   "execution_count": 24,
   "id": "797ccab3-1eee-444a-aee3-094c575dd18d",
   "metadata": {},
   "outputs": [
    {
     "data": {
      "text/plain": [
       "<SkyCoord (ICRS): (ra, dec) in deg\n",
       "    (219.902083, -60.833972)>"
      ]
     },
     "execution_count": 24,
     "metadata": {},
     "output_type": "execute_result"
    }
   ],
   "source": [
    "wwt.get_center()"
   ]
  },
  {
   "cell_type": "code",
   "execution_count": 25,
   "id": "19e0f6c7-c765-45b0-a016-ab3ff56ee2b2",
   "metadata": {},
   "outputs": [
    {
     "data": {
      "text/latex": [
       "$28.531167\\mathrm{{}^{\\circ}}$"
      ],
      "text/plain": [
       "<Quantity 28.53116706 deg>"
      ]
     },
     "execution_count": 25,
     "metadata": {},
     "output_type": "execute_result"
    }
   ],
   "source": [
    "wwt.get_fov()"
   ]
  },
  {
   "cell_type": "code",
   "execution_count": 26,
   "id": "9d8ddad5-2f9f-4b96-80cd-4db0b2d131d7",
   "metadata": {},
   "outputs": [
    {
     "data": {
      "text/plain": [
       "{'version_major': 2,\n",
       " 'version_minor': 0,\n",
       " 'model_id': 'af85eb0d32734c0e8553f6aedc9ed809'}"
      ]
     },
     "execution_count": 26,
     "metadata": {},
     "output_type": "execute_result"
    }
   ],
   "source": [
    "wwt.get_view_spec()"
   ]
  },
  {
   "cell_type": "code",
   "execution_count": 30,
   "id": "4dbddd9d-6a79-4ea5-9098-d5c200697b07",
   "metadata": {},
   "outputs": [
    {
     "data": {
      "text/plain": [
       "<pywwt.imagery.ImageryLayers at 0x14cac0e80>"
      ]
     },
     "execution_count": 30,
     "metadata": {},
     "output_type": "execute_result"
    }
   ],
   "source": [
    "wwt.imagery"
   ]
  },
  {
   "cell_type": "code",
   "execution_count": 34,
   "id": "c9d67744-a48a-4a7d-90ca-b6a966e162bf",
   "metadata": {},
   "outputs": [
    {
     "data": {
      "text/plain": [
       "['_appUrl',\n",
       " '_dom_classes',\n",
       " '_model_module',\n",
       " '_model_module_version',\n",
       " '_model_name',\n",
       " '_view_count',\n",
       " '_view_module',\n",
       " '_view_module_version',\n",
       " '_view_name',\n",
       " 'layout',\n",
       " 'tabbable',\n",
       " 'tooltip']"
      ]
     },
     "execution_count": 34,
     "metadata": {},
     "output_type": "execute_result"
    }
   ],
   "source": [
    "wwt.keys"
   ]
  },
  {
   "cell_type": "code",
   "execution_count": 38,
   "id": "92cb2000-559f-42a5-8854-6937f3d8c10e",
   "metadata": {},
   "outputs": [
    {
     "data": {
      "text/plain": [
       "\u001b[0;31mSignature:\u001b[0m \u001b[0mwwt\u001b[0m\u001b[0;34m.\u001b[0m\u001b[0msend_state\u001b[0m\u001b[0;34m(\u001b[0m\u001b[0mkey\u001b[0m\u001b[0;34m=\u001b[0m\u001b[0;32mNone\u001b[0m\u001b[0;34m)\u001b[0m\u001b[0;34m\u001b[0m\u001b[0;34m\u001b[0m\u001b[0m\n",
       "\u001b[0;31mDocstring:\u001b[0m\n",
       "Sends the widget state, or a piece of it, to the front-end, if it exists.\n",
       "\n",
       "Parameters\n",
       "----------\n",
       "key : unicode, or iterable (optional)\n",
       "    A single property's name or iterable of property names to sync with the front-end.\n",
       "\u001b[0;31mFile:\u001b[0m      /opt/anaconda3/envs/FullProcess/lib/python3.10/site-packages/ipywidgets/widgets/widget.py\n",
       "\u001b[0;31mType:\u001b[0m      method"
      ]
     },
     "metadata": {},
     "output_type": "display_data"
    }
   ],
   "source": [
    "wwt.send_state?"
   ]
  },
  {
   "cell_type": "code",
   "execution_count": 39,
   "id": "13721101-11df-47ac-be4c-92574e49fb2a",
   "metadata": {},
   "outputs": [
    {
     "data": {
      "text/plain": [
       "\u001b[0;31mSignature:\u001b[0m \u001b[0mwwt\u001b[0m\u001b[0;34m.\u001b[0m\u001b[0mset_view\u001b[0m\u001b[0;34m(\u001b[0m\u001b[0mmode\u001b[0m\u001b[0;34m)\u001b[0m\u001b[0;34m\u001b[0m\u001b[0;34m\u001b[0m\u001b[0m\n",
       "\u001b[0;31mDocstring:\u001b[0m\n",
       "Change the view mode.\n",
       "\n",
       "Valid options include the default sky mode, a 3D universe mode with\n",
       "different viewing levels (the solar system, the Milky Way, and the\n",
       "observed universe), individual views of major solar system objects, and\n",
       "panoramas from lunar missions and NASA's Mars rovers.\n",
       "\n",
       "To find the list of available views, use the\n",
       ":attr:`~pywwt.BaseWWTWidget.available_views`.\n",
       "\n",
       "Parameters\n",
       "----------\n",
       "mode : `str`\n",
       "    The desired view mode. (default: 'sky')\n",
       "\u001b[0;31mFile:\u001b[0m      /opt/anaconda3/envs/FullProcess/lib/python3.10/site-packages/pywwt/core.py\n",
       "\u001b[0;31mType:\u001b[0m      method"
      ]
     },
     "metadata": {},
     "output_type": "display_data"
    }
   ],
   "source": [
    "wwt.set_view?"
   ]
  },
  {
   "cell_type": "code",
   "execution_count": 40,
   "id": "ee602a35-377c-40a0-920d-3229dbabaecf",
   "metadata": {},
   "outputs": [
    {
     "data": {
      "text/plain": [
       "<bound method HasTraits.traits of WWTJupyterWidget(layout=Layout(align_self='stretch', height='400px'))>"
      ]
     },
     "execution_count": 40,
     "metadata": {},
     "output_type": "execute_result"
    }
   ],
   "source": [
    "wwt.traits"
   ]
  },
  {
   "cell_type": "code",
   "execution_count": null,
   "id": "369ce97d-bc9e-456c-bd06-809edf3ca502",
   "metadata": {},
   "outputs": [],
   "source": []
  }
 ],
 "metadata": {
  "kernelspec": {
   "display_name": "Python 3 (ipykernel)",
   "language": "python",
   "name": "python3"
  },
  "language_info": {
   "codemirror_mode": {
    "name": "ipython",
    "version": 3
   },
   "file_extension": ".py",
   "mimetype": "text/x-python",
   "name": "python",
   "nbconvert_exporter": "python",
   "pygments_lexer": "ipython3",
   "version": "3.10.9"
  }
 },
 "nbformat": 4,
 "nbformat_minor": 5
}
