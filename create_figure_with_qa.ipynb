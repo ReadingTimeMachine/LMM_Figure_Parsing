{
 "cells": [
  {
   "cell_type": "code",
   "execution_count": 318,
   "id": "303ad534-2919-4110-8379-86e8a69f17d1",
   "metadata": {},
   "outputs": [],
   "source": [
    "# save files\n",
    "fullproc_r = '/Users/jnaiman/LMM_Figure_Parsing/resources/'\n",
    "\n",
    "# get title and x/y labels from most frequent words\n",
    "data_dir = '/Users/jnaiman/LMM_Figure_Parsing/resources/data/'\n",
    "\n",
    "# save\n",
    "#fake_figs_dir = '/Users/jnaiman/Downloads/tmp/fake_figs/'\n",
    "fake_figs_dir = '/Users/jnaiman/Dropbox/JCDL2024/paper_submission/data/'\n",
    "\n",
    "# only used to re-do inlines\n",
    "dirs_latex = ['arxiv/9901', 'arxiv_new/2301', 'arxiv_new/2302']\n",
    "base_dir_arxiv = '/Users/jnaiman/Dropbox/wwt_image_extraction/'"
   ]
  },
  {
   "cell_type": "code",
   "execution_count": 319,
   "id": "dac46135-2293-4edc-8f41-123f5ee4862f",
   "metadata": {},
   "outputs": [],
   "source": [
    "import numpy as np\n",
    "import matplotlib.pyplot as plt\n",
    "from PIL import Image\n",
    "import cv2 as cv\n",
    "import pickle\n",
    "import pandas as pd\n",
    "#import string\n",
    "from glob import glob\n",
    "from mpl_toolkits.axes_grid1 import make_axes_locatable\n",
    "from PIL import ImageColor\n",
    "import json\n",
    "\n",
    "#import spacy\n",
    "\n",
    "# this is hacktacular from: https://github.com/ReadingTimeMachine/TexSoup\n",
    "# and needs to be updated\n",
    "# tex_lib = '/Users/jnaiman/TexSoup/'\n",
    "# from sys import path\n",
    "# path.append(tex_lib)\n",
    "# import TexSoup\n",
    "# from TexSoup import preprocessing, postprocess\n",
    "\n",
    "#from nltk.corpus import stopwords\n",
    "import time\n",
    "\n",
    "# from matplotlib import font_manager\n",
    "# plt.rcParams['text.usetex'] = True\n",
    "import matplotlib as mpl\n",
    "mpl.rcParams['text.usetex'] = True\n",
    "mpl.rcParams['text.latex.preamble'] = r'\\usepackage{amsmath} \\usepackage{amssymb}' #for \\text command\n",
    "\n",
    "#nlp = spacy.load(\"en_core_web_sm\")\n",
    "\n",
    "# written libs\n",
    "from importlib import reload # debug\n",
    "import synthetic_fig_utils # debug\n",
    "reload(synthetic_fig_utils) # debug\n",
    "from synthetic_fig_utils import subset_by_percent, \\\n",
    " get_nrows_and_ncols, normalize_params_prob, get_ticks, get_titles_or_labels, \\\n",
    " get_font_info\n",
    " #get_data, make_plot\n",
    "#get_line_styles, \\\n",
    "\n",
    "import plot_parameters\n",
    "\n",
    "\n",
    "# import distribution_utils\n",
    "# reload(distribution_utils)\n",
    "# from distribution_utils import get_random_data, get_random, \\\n",
    "#    get_linear, get_linear_data, get_data\n",
    "\n",
    "import plot_utils\n",
    "reload(plot_utils)\n",
    "from plot_utils import get_contour_plot, get_histogram_plot, \\\n",
    "   get_line_plot, get_scatter_plot, make_plot\n",
    "\n",
    "import pixel_location_utils\n",
    "reload(pixel_location_utils)\n",
    "from pixel_location_utils import get_errorbar_pixels, get_data_pixel_locations\n",
    "\n",
    "import text_utils\n",
    "reload(text_utils)\n",
    "from text_utils import get_popular_nouns, get_inline_math\n",
    "\n",
    "# create a bunch of fake figures\n",
    "reload(synthetic_fig_utils)\n",
    "from synthetic_fig_utils import normalize_params_prob\n",
    "reload(plot_parameters)\n",
    "from plot_parameters import plot_types_params, panel_params, \\\n",
    "  title_params, xlabel_params, \\\n",
    "  ylabel_params, aspect_fig_params, dpi_params, tight_layout_params, \\\n",
    "  fontsizes, base\n",
    "\n",
    "import data_utils\n",
    "reload(data_utils)\n",
    "from data_utils import get_data, NumpyEncoder\n",
    "\n",
    "use_uniques = True # use unique inlines\n",
    "verbose = True"
   ]
  },
  {
   "cell_type": "code",
   "execution_count": 320,
   "id": "5dd4abcd-e7ca-49af-8c24-e172d45d4472",
   "metadata": {},
   "outputs": [],
   "source": [
    "# get fonts -- see \"cnn_create_synthetic_ticks\" in FullProcess\n",
    "dfont = pd.read_csv(fullproc_r + 'fonts.csv')\n",
    "font_names = dfont['font name'].values\n",
    "\n",
    "# for plot styles\n",
    "plot_styles = plt.style.available"
   ]
  },
  {
   "cell_type": "code",
   "execution_count": 321,
   "id": "f8c9102b-3569-4cab-aea0-648e9acda436",
   "metadata": {},
   "outputs": [
    {
     "name": "stdout",
     "output_type": "stream",
     "text": [
      "16253 343492\n",
      "shape of output= (5097, 5)\n",
      "shape of output= (36332, 5)\n"
     ]
    }
   ],
   "source": [
    "# get words\n",
    "popular_nouns = get_popular_nouns(data_dir)"
   ]
  },
  {
   "cell_type": "markdown",
   "id": "e155a7d6-8aaf-4893-b425-9d3fcd99d6f7",
   "metadata": {},
   "source": [
    "Get inline math:"
   ]
  },
  {
   "cell_type": "code",
   "execution_count": 322,
   "id": "a3f38235-707f-4752-9936-8ea6fcd6d2a5",
   "metadata": {},
   "outputs": [
    {
     "name": "stdout",
     "output_type": "stream",
     "text": [
      "number of inlines =  33201\n"
     ]
    }
   ],
   "source": [
    "inlines = get_inline_math(base_dir_arxiv, dirs_latex, fullproc_r,\n",
    "                          recreate_inlines=False,\n",
    "                         use_uniques=use_uniques)"
   ]
  },
  {
   "cell_type": "markdown",
   "id": "c95df300-7b85-4a0c-b679-689b2e5f6f65",
   "metadata": {},
   "source": [
    "## Update plotting params"
   ]
  },
  {
   "cell_type": "code",
   "execution_count": 323,
   "id": "c1f002ca-113f-4a39-9c71-46f61dc5b34a",
   "metadata": {},
   "outputs": [],
   "source": [
    "plot_params = plot_types_params.copy()"
   ]
  },
  {
   "cell_type": "markdown",
   "id": "419db1ca-ee79-4169-aea7-cb79824e810e",
   "metadata": {},
   "source": [
    "### Line plots, Linear distributions"
   ]
  },
  {
   "cell_type": "code",
   "execution_count": 324,
   "id": "ae5640a9-8669-4ac1-9e1a-f103daa693f1",
   "metadata": {},
   "outputs": [
    {
     "name": "stdout",
     "output_type": "stream",
     "text": [
      "title_params capatilize did not add to 1! total = 1.2999999999999998\n",
      "renormalizing...\n",
      "now:  {'none': 0.07692307692307694, 'first': 0.3846153846153847, 'all': 0.5384615384615385}\n",
      "xlabel_params capatilize did not add to 1! total = 1.2999999999999998\n",
      "renormalizing...\n",
      "now:  {'none': 0.07692307692307694, 'first': 0.3846153846153847, 'all': 0.5384615384615385}\n",
      "ylabel_params capatilize did not add to 1! total = 1.2999999999999998\n",
      "renormalizing...\n",
      "now:  {'none': 0.07692307692307694, 'first': 0.3846153846153847, 'all': 0.5384615384615385}\n"
     ]
    },
    {
     "data": {
      "text/plain": [
       "{'line': {'prob': 1,\n",
       "  'npoints': {'min': 10, 'max': 100},\n",
       "  'line thick': {'min': 1, 'max': 5},\n",
       "  'nlines': {'min': 1, 'max': 10},\n",
       "  'xmin': -10000,\n",
       "  'xmax': 10000,\n",
       "  'ymin': -10000,\n",
       "  'ymax': 10000,\n",
       "  'prob same x': 0.1,\n",
       "  'markers': {'prob': 0.5, 'size': {'min': 1, 'max': 20}},\n",
       "  'error bars': {'elinewidth': {'min': 1, 'max': 5},\n",
       "   'x': {'prob': 0.25, 'size': {'min': 0.01, 'max': 0.1}},\n",
       "   'y': {'prob': 0.25, 'size': {'min': 0.01, 'max': 0.1}}},\n",
       "  'distribution': {'random': {'prob': 0},\n",
       "   'linear': {'prob': 1,\n",
       "    'intersect': (-100, 100),\n",
       "    'slope': (-5, 5),\n",
       "    'noise': (0.25, 0.25)},\n",
       "   'gmm': {'prob': 0,\n",
       "    'histogram as line': {'prob': 0.25, 'factor': 1000},\n",
       "    'nclusters': {'min': 1, 'max': 20},\n",
       "    'nsamples': {'min': 10, 'max': 500},\n",
       "    'cluster std': {'min': -2, 'max': 0.5},\n",
       "    'noise': {'min': 0.05, 'max': 0.25}}}}}"
      ]
     },
     "execution_count": 324,
     "metadata": {},
     "output_type": "execute_result"
    }
   ],
   "source": [
    "plot_params_line = {'line':plot_params['line']}\n",
    "\n",
    "plot_params_line['line']['npoints'] = {'min':10, 'max':100}\n",
    "plot_params_line['line']['nlines'] = {'min':1, 'max':10}\n",
    "\n",
    "# just linear\n",
    "plot_params_line['line']['distribution']['random']['prob'] = 0\n",
    "plot_params_line['line']['distribution']['gmm']['prob'] = 0\n",
    "plot_params_line['line']['distribution']['linear']['prob'] = 1\n",
    "\n",
    "# noise\n",
    "plot_params_line['line']['distribution']['linear']['noise'] = (0.25, 0.25)\n",
    "\n",
    "plot_params_line, panel_params, \\\n",
    "  title_params, xlabel_params, \\\n",
    "  ylabel_params = normalize_params_prob(plot_params_line.copy(), panel_params, \n",
    "                                        title_params, xlabel_params, \n",
    "                                        ylabel_params)\n",
    "\n",
    "plot_params_line"
   ]
  },
  {
   "cell_type": "code",
   "execution_count": 325,
   "id": "76b56876-9d01-462f-8464-34e44d29e6ca",
   "metadata": {},
   "outputs": [
    {
     "data": {
      "text/plain": [
       "{'prob': 0.9,\n",
       " 'n words': {'min': 1, 'max': 3},\n",
       " 'capitalize': {'none': 0.07692307692307694,\n",
       "  'first': 0.3846153846153847,\n",
       "  'all': 0.5384615384615385},\n",
       " 'equation': {'prob': 0.25}}"
      ]
     },
     "execution_count": 325,
     "metadata": {},
     "output_type": "execute_result"
    }
   ],
   "source": [
    "xlabel_params"
   ]
  },
  {
   "cell_type": "code",
   "execution_count": 326,
   "id": "2739fe8f-f6ed-4c44-ad72-cd33be508215",
   "metadata": {},
   "outputs": [
    {
     "data": {
      "text/plain": [
       "['Solarize_Light2',\n",
       " '_classic_test_patch',\n",
       " '_mpl-gallery',\n",
       " '_mpl-gallery-nogrid',\n",
       " 'bmh',\n",
       " 'classic',\n",
       " 'dark_background',\n",
       " 'fast',\n",
       " 'fivethirtyeight',\n",
       " 'ggplot',\n",
       " 'grayscale',\n",
       " 'seaborn-v0_8',\n",
       " 'seaborn-v0_8-bright',\n",
       " 'seaborn-v0_8-colorblind',\n",
       " 'seaborn-v0_8-dark',\n",
       " 'seaborn-v0_8-dark-palette',\n",
       " 'seaborn-v0_8-darkgrid',\n",
       " 'seaborn-v0_8-deep',\n",
       " 'seaborn-v0_8-muted',\n",
       " 'seaborn-v0_8-notebook',\n",
       " 'seaborn-v0_8-paper',\n",
       " 'seaborn-v0_8-pastel',\n",
       " 'seaborn-v0_8-poster',\n",
       " 'seaborn-v0_8-talk',\n",
       " 'seaborn-v0_8-ticks',\n",
       " 'seaborn-v0_8-white',\n",
       " 'seaborn-v0_8-whitegrid',\n",
       " 'tableau-colorblind10']"
      ]
     },
     "execution_count": 326,
     "metadata": {},
     "output_type": "execute_result"
    }
   ],
   "source": [
    "plot_styles"
   ]
  },
  {
   "cell_type": "code",
   "execution_count": 327,
   "id": "48190d25-ce80-4ef5-b19a-a4e551628707",
   "metadata": {},
   "outputs": [
    {
     "data": {
      "text/plain": [
       "['line', 'histogram', 'scatter', 'contour']"
      ]
     },
     "execution_count": 327,
     "metadata": {},
     "output_type": "execute_result"
    }
   ],
   "source": [
    "#plot_types_params\n",
    "plot_types = []\n",
    "for p,v in plot_types_params.items():\n",
    "    plot_types.append(p)\n",
    "plot_types"
   ]
  },
  {
   "cell_type": "code",
   "execution_count": 412,
   "id": "73166264-d47a-43cb-8911-9272b37cc708",
   "metadata": {},
   "outputs": [
    {
     "name": "stdout",
     "output_type": "stream",
     "text": [
      "selected npanels: 11\n",
      "panel style: squarish nrows,ncols= (4, 3) aspect= 0.8768643586907322 dpi= 123\n",
      "PLOT TYPE: line\n",
      "  Distribution Type: linear\n",
      "PLOT TYPE: line\n",
      "  Distribution Type: linear\n",
      "PLOT TYPE: line\n",
      "  Distribution Type: linear\n",
      "PLOT TYPE: line\n",
      "  Distribution Type: linear\n",
      "PLOT TYPE: line\n",
      "  Distribution Type: linear\n",
      "PLOT TYPE: line\n",
      "  Distribution Type: linear\n",
      "PLOT TYPE: line\n",
      "  Distribution Type: linear\n",
      "PLOT TYPE: line\n",
      "  Distribution Type: linear\n",
      "PLOT TYPE: line\n",
      "  Distribution Type: linear\n",
      "PLOT TYPE: line\n",
      "  Distribution Type: linear\n",
      "PLOT TYPE: line\n",
      "  Distribution Type: linear\n",
      "PLOT TYPE: line\n",
      "  Distribution Type: linear\n",
      "saved: /Users/jnaiman/Dropbox/JCDL2024/paper_submission/data/Picture4.png\n",
      "QUESTION: How many panels are in this figure? You are a helpful assistant, please format the output as a json as {\"nrows\":\"\", \"ncols\":\"\"} to store the number of rows and columns.\n",
      "ANSWER: {'nrows': 4, 'ncols': 3}\n",
      "\n",
      "QUESTION: Assuming this is a figure made with matplotlib in Python, what is the plot style used?  Examples of plotting styles are \"classic\" or \"ggplot\". You are a helpful assistant, please format the output as a json as {\"plot style\":\"\"} to store the matplotlib plotting style used in the figure.\n",
      "ANSWER: {'plot style': 'seaborn-v0_8-whitegrid'}\n",
      "\n",
      "QUESTION: Assuming this is a figure made with matplotlib in Python, what is the colormap that was used?  Examples of matplotlib colormaps are \"rainbow\" or \"Reds\". You are a helpful assistant, please format the output as a json as {\"colormap\":\"\"} to store the matplotlib colormap used in the figure.\n",
      "ANSWER: {'colormap': 'gray'}\n",
      "\n",
      "QUESTION: What is the aspect ratio of this figure? You are a helpful assistant, please format the output as a json as {\"aspect ratio\":\"\"} to store the aspect ratio of the plot.\n",
      "ANSWER: {'aspect ratio': 0.8768643586907322}\n",
      "\n",
      "QUESTION: What are the titles for each figure panel? You are a helpful assistant, please format the output as a json as {\"titles\":[]}, where the list is a list of strings of all of the titles.  If there is a single plot, this should be one element in this list, and if there are multiple plots the list should be in row-major (C-style) order. If a plot does not have a title, then denote this by an empty string in the list.  Please format any formulas in the title in a Python LaTeX string (for example 'Light $\\\\alpha$'). \n",
      "ANSWER: {'title': ['', '', '', 'SOURCES ORIENTATIONS VORTICES', '', '', '', 'purpose', '', '', 'DEPOSITION', '$\\\\theta = 90^\\\\circ$  Cubes Repeat Spirals']}\n",
      "QUESTION: What are the x-axis titles for each figure panel? You are a helpful assistant, please format the output as a json as {\"xlabels\":[]}, where the list is a list of strings of all of the x-axis titles.  If there is a single plot, this should be one element in this list, and if there are multiple plots the list should be in row-major (C-style) order. If a plot does not have an x-axis title, then denote this by an empty string in the list.  Please format any formulas in the title in a Python LaTeX string (for example 'Light $\\\\alpha$'). \n",
      "ANSWER: {'xlabels': ['${q^{+}_{vis}}$  EARTH', 'RESOLUTION', 'Power Torque', '$25\\\\%$  ${\\\\cal R}$ ', 'material denotes shear', 'EXPECTATION', '$<30\\\\%$  conservation', 'ENTERS PROJECTS FREQUENCY', 'Flare $<M_{D}<552$ ', 'FOLLOW', '$0<f_i<1$  $T_{vir}(r_v) = T_\\\\ast$  Supply', 'REALITY ESTIMATE']}\n",
      "QUESTION: What are the y-axis titles for each figure panel? You are a helpful assistant, please format the output as a json as {\"ylabels\":[]}, where the list is a list of strings of all of the y-axis titles.  If there is a single plot, this should be one element in this list, and if there are multiple plots the list should be in row-major (C-style) order. If a plot does not have an y-axis title, then denote this by an empty string in the list.  Please format any formulas in the title in a Python LaTeX string (for example 'Light $\\\\alpha$'). \n",
      "ANSWER: {'ylabels': ['ABUNDANCE SEQUENCE', 'NODES $d_{\\\\rm iso}=100\\\\:$  ALTER', 'CELL APPROACHES', '$e_{\\\\rm b} \\\\lesssim 0.05$  $\\\\sigma_{int} = 0.29$ ', 'DETECTORS', 'Subtraction', 'DENSITIES', 'frame sun loss', 'SCENARIO', 'Compare Year', 'VECTOR', 'DISTANCES']}\n",
      "QUESTION: What are the values for each of the tick marks on the x-axis? You are a helpful assistant, please format the output as a json as {\"xtick values\":[[]]}, where each element of the outer list refers to a single panel, and each inner list is a list of the x-axis tick mark values. If there is a single plot, this should be one element in the outer list, and if there are multiple plots the outer list should be in row-major (C-style) order. If a plot does not have any x-axis tick values, then denote this by an empty string in the inner list.  Please format any formulas in the x-axis tick values in a Python LaTeX string (for example 'Light $\\\\alpha$'). \n",
      "ANSWER: {'xtick values': [['2000', '3000', '4000', '5000', '6000', '7000', '8000'], ['−9000', '−8000', '−7000', '−6000', '−5000', '−4000', '−3000'], ['−10000', '−8000', '−6000', '−4000', '−2000', '0', '2000', '4000'], ['0', '500', '1000', '1500', '2000', '2500', '3000'], ['−4000', '−2000', '0', '2000', '4000', '6000', '8000', '10000'], ['4000', '4500', '5000', '5500', '6000', '6500', '7000', '7500', '8000'], ['−6000', '−5500', '−5000', '−4500', '−4000', '−3500', '−3000', '−2500', '−2000', '−1500'], ['−6000', '−5000', '−4000', '−3000', '−2000', '−1000', '0', '1000'], ['−10000', '−8000', '−6000', '−4000', '−2000', '0'], ['−9000', '−8000', '−7000', '−6000', '−5000', '−4000', '−3000', '−2000', '−1000', '0'], ['4600', '4700', '4800', '4900', '5000', '5100', '5200', '5300', '5400', '5500'], ['3700', '3800', '3900', '4000', '4100', '4200', '4300', '4400', '4500', '4600']]}\n",
      "QUESTION: What are the values for each of the tick marks on the y-axis? You are a helpful assistant, please format the output as a json as {\"ytick values\":[[]]}, where each element of the outer list refers to a single panel, and each inner list is a list of the y-axis tick mark values. If there is a single plot, this should be one element in the outer list, and if there are multiple plots the outer list should be in row-major (C-style) order. If a plot does not have any y-axis tick values, then denote this by an empty string in the inner list.  Please format any formulas in the y-axis tick values in a Python LaTeX string (for example 'Light $\\\\alpha$'). \n",
      "ANSWER: {'ytick values': [['−40000', '−30000', '−20000', '−10000', '0', '10000', '20000', '30000', '40000'], ['−40000', '−30000', '−20000', '−10000', '0', '10000', '20000', '30000', '40000'], ['−60000', '−40000', '−20000', '0', '20000', '40000', '60000'], ['−14000', '−12000', '−10000', '−8000', '−6000', '−4000', '−2000', '0'], ['−60000', '−40000', '−20000', '0', '20000', '40000', '60000'], ['−50000', '−40000', '−30000', '−20000', '−10000', '0', '10000', '20000', '30000', '40000'], ['−40000', '−30000', '−20000', '−10000', '0', '10000', '20000', '30000', '40000'], ['−30000', '−20000', '−10000', '0', '10000', '20000', '30000'], ['−80000', '−60000', '−40000', '−20000', '0', '20000', '40000', '60000', '80000'], ['−50000', '−40000', '−30000', '−20000', '−10000', '0', '10000', '20000', '30000'], ['−40000', '−30000', '−20000', '−10000', '0', '10000', '20000', '30000'], ['−30000', '−20000', '−10000', '0', '10000', '20000', '30000', '40000']]}\n",
      "QUESTION: What are the plot types for each panel in the figure? You are a helpful assistant, please format the output as a json as {\"plot types\":[]}, where each element of the list refers to the plot type of a single panel. If there is a single plot, this should be one element in this list, and if there are multiple plots the list should be in row-major (C-style) order. Please choose each plot type from the following list: [line, line, line, line, line, line, line, line, line, line, line, line].\n",
      "ANSWER: {'plot types': ['line', 'line', 'line', 'line', 'line', 'line', 'line', 'line', 'line', 'line', 'line', 'line']}\n",
      "QUESTION: How many different types of lines are there for each panel in the figure? You are a helpful assistant, please format the output as a json as {\"nlines\":[]}, where each element of the list refers to the number of lines of a single panel. If there is a single plot, this should be one element in this list, and if there are multiple plots the list should be in row-major (C-style) order. \n",
      "ANSWER: {'nlines': [7, 9, 9, 1, 10, 5, 9, 2, 7, 8, 6, 9]}\n",
      "DONE!\n"
     ]
    },
    {
     "data": {
      "text/plain": [
       "<Figure size 640x480 with 0 Axes>"
      ]
     },
     "metadata": {},
     "output_type": "display_data"
    }
   ],
   "source": [
    "plot_params_here = plot_params_line.copy()\n",
    "\n",
    "i = 0\n",
    "\n",
    "datas_all = {} # for multiples\n",
    "plt.close('all')\n",
    "\n",
    "if True:\n",
    "    ######### pick things ########\n",
    "    # figure\n",
    "    color_map = 'gray' # hack#np.random.choice(plt.colormaps())\n",
    "    #plt.set_cmap(color_map)\n",
    "    \n",
    "    npanels, panel_style, nrows, ncols = get_nrows_and_ncols(panel_params)\n",
    "    ####npanels, panel_style,nrows,ncols = 1, 'horizontal', 1,1 # HACK\n",
    "    plot_style = np.random.choice(plot_styles)\n",
    "    \n",
    "    aspect_fig = np.random.uniform(low=aspect_fig_params['min'], \n",
    "                                   high=aspect_fig_params['max'])\n",
    "    # rows and cols \n",
    "    aspect_fig *= nrows/ncols\n",
    "    dpi = int(np.random.uniform(low=dpi_params['min'], high=dpi_params['max']))\n",
    "    # tight layout or not\n",
    "    print('panel style:', panel_style, 'nrows,ncols=', (nrows,ncols), \n",
    "          'aspect=', aspect_fig, 'dpi=', dpi)\n",
    "    \n",
    "    tight_layout = True\n",
    "\n",
    "\n",
    "    # get all font stuffs\n",
    "    title_fontsize, xlabel_fontsize, ylabel_fontsize, \\\n",
    "       xlabel_ticks_fontsize, ylabel_ticks_fontsize, \\\n",
    "                           csfont = get_font_info(fontsizes, font_names)\n",
    "    #print(\"ALL IS WELL HERE 1\")\n",
    "\n",
    "    # plot types?\n",
    "    success = False\n",
    "    start_time = time.time()\n",
    "    while not success:\n",
    "        #with plt.style.context(plot_style):\n",
    "        if True:\n",
    "            plt.style.use(plot_style)\n",
    "            plt.set_cmap(color_map) \n",
    "            #plt.rcParams['image.cmap'] = 'gray' #color_map\n",
    "            if tight_layout:\n",
    "                fig,axes = plt.subplots(nrows,ncols,figsize=(base*nrows, base*aspect_fig*ncols), \n",
    "                                        dpi=dpi,layout='tight')\n",
    "            else:\n",
    "                fig,axes = plt.subplots(nrows,ncols,figsize=(base*nrows, base*aspect_fig*ncols), \n",
    "                                        dpi=dpi)\n",
    "                \n",
    "            if npanels == 1:\n",
    "                axes = [axes]\n",
    "                plot_inds = [(0,0)] # i,j\n",
    "            else: # flatten, for now\n",
    "                # create inds\n",
    "                plot_inds = np.empty(shape=(axes.shape[0], axes.shape[1],2), dtype=int)\n",
    "                for i in range(axes.shape[0]):\n",
    "                    for j in range(axes.shape[1]):\n",
    "                        plot_inds[i,j][0] = i\n",
    "                        plot_inds[i,j][1] = j\n",
    "                plot_inds = plot_inds.reshape((axes.shape[0]*axes.shape[1],-1))\n",
    "                axes = axes.flatten()\n",
    "            \n",
    "\n",
    "            #**HERE** have to save index\n",
    "                    \n",
    "            ######### Generate plot data #########\n",
    "            #print('here 1')\n",
    "            \n",
    "            choices = []; probs = []\n",
    "            for k,v in plot_params_here.items():\n",
    "                choices.append(k)\n",
    "                probs.append(v['prob'])\n",
    "        \n",
    "            data_for_plots = []\n",
    "            plot_types = []\n",
    "            data_from_plots = []\n",
    "            titles = []; xlabels = []; ylabels = []; cbars = []\n",
    "            end_time = time.time()\n",
    "            #try:\n",
    "            if True:\n",
    "                for iplot, ax in enumerate(axes):\n",
    "                    start_time = time.time()\n",
    "                    plot_type = np.random.choice(choices, p=probs)\n",
    "                    print('PLOT TYPE:', plot_type)\n",
    "                    # get distribution type\n",
    "                    dist_params = plot_params_here[plot_type]['distribution'] \n",
    "                    choices_d = []; probs_d = []\n",
    "                    for k,v in dist_params.items():\n",
    "                        choices_d.append(k)\n",
    "                        probs_d.append(v['prob'])\n",
    "\n",
    "                    distribution_type = np.random.choice(choices_d, p=probs_d)\n",
    "                    print('  Distribution Type:', distribution_type)\n",
    "                    \n",
    "                    #print('here 2')\n",
    "                    data_for_plot = get_data(plot_params_here[plot_type],\n",
    "                                    plot_type=plot_type,\n",
    "                                            distribution=distribution_type)\n",
    "                    end_time = time.time()\n",
    "                \n",
    "                    ######### PLOT ############\n",
    "                    start_time = time.time()\n",
    "                    #print('here 3')\n",
    "                    data_from_plot, ax = make_plot(plot_params_here[plot_type], data_for_plot, \n",
    "                                         ax, plot_type=plot_type)#, plot_style=plot_style)\n",
    "                    #import sys; sys.exit()\n",
    "                    end_time = time.time()\n",
    "                    #print('here 4')\n",
    "    \n",
    "                    # set ticksizes\n",
    "                    ax.tick_params(axis='x', which='major', labelsize=xlabel_ticks_fontsize, labelfontfamily=csfont['fontname'])\n",
    "                    ax.tick_params(axis='y', which='major', labelsize=ylabel_ticks_fontsize, labelfontfamily=csfont['fontname'])\n",
    "    \n",
    "                    start_time = time.time()\n",
    "                    p = np.random.uniform(0,1)\n",
    "                    if p < title_params['prob']:\n",
    "                        title_words = get_titles_or_labels(popular_nouns, title_params['capitalize'],\n",
    "                                                 title_params['equation'], inlines,\n",
    "                                                 nwords=np.random.randint(low=title_params['n words']['min'],\n",
    "                                                                          high=title_params['n words']['max']+1))\n",
    "                        title = ax.set_title(title_words, fontsize = title_fontsize, **csfont)\n",
    "                    else:\n",
    "                        title = ''\n",
    "                        \n",
    "                    xlabel_words = get_titles_or_labels(popular_nouns, xlabel_params['capitalize'],\n",
    "                                                 xlabel_params['equation'], inlines,\n",
    "                                                 nwords=np.random.randint(low=xlabel_params['n words']['min'],\n",
    "                                                                          high=xlabel_params['n words']['max']+1))\n",
    "                    xlabel = ax.set_xlabel(xlabel_words, fontsize=xlabel_fontsize, **csfont)\n",
    "                    ylabel_words = get_titles_or_labels(popular_nouns, ylabel_params['capitalize'],\n",
    "                                                 ylabel_params['equation'], inlines,\n",
    "                                                 nwords=np.random.randint(low=ylabel_params['n words']['min'],\n",
    "                                                                          high=ylabel_params['n words']['max']+1))\n",
    "                    ylabel = ax.set_ylabel(ylabel_words, fontsize=ylabel_fontsize, **csfont)\n",
    "                    end_time = time.time()\n",
    "            \n",
    "                    # save\n",
    "                    data_for_plots.append(data_for_plot)\n",
    "                    plot_types.append(plot_type)\n",
    "                    data_from_plots.append(data_from_plot)\n",
    "                    titles.append(title)\n",
    "                    xlabels.append(xlabel)\n",
    "                    ylabels.append(ylabel)\n",
    "    \n",
    "                    if plot_type == 'scatter': # or plot_type == 'contour':\n",
    "                        if 'color bar' in data_from_plot:\n",
    "                            side = data_from_plot['color bar params']['side']\n",
    "                            if side == 'top' or side == 'bottom':\n",
    "                                orientation = 'horizontal'\n",
    "                            else:\n",
    "                                orientation = 'vertical'\n",
    "    \n",
    "                            cbar = fig.colorbar(data_from_plot['data'], \n",
    "                                         cax=data_from_plot['color bar'], \n",
    "                                         orientation=orientation)\n",
    "                            cbars.append(cbar)\n",
    "\n",
    "                    if plot_type == 'contour':\n",
    "                        if 'color bar' in data_from_plot:\n",
    "                            side = data_from_plot['color bar params']['side']\n",
    "                            if side == 'top' or side == 'bottom':\n",
    "                                orientation = 'horizontal'\n",
    "                            else:\n",
    "                                orientation = 'vertical'\n",
    "                    \n",
    "                            if 'image' in data_from_plot['data']: # select correct colorbar to use\n",
    "                                datac = data_from_plot['data']['image']\n",
    "                            else:\n",
    "                                datac = data_from_plot['data']['contour']\n",
    "                                            \n",
    "                            cbar = fig.colorbar(datac, \n",
    "                                         cax=data_from_plot['color bar'], \n",
    "                                         orientation=orientation)\n",
    "                            cbars.append(cbar)\n",
    "\n",
    "    \n",
    "                #if not save_smalls:\n",
    "                plt.set_cmap(color_map) # do again\n",
    "                fig.savefig(fake_figs_dir + 'Picture' + str(i+1) + '.png', dpi=dpi, bbox_inches='tight')\n",
    "                print('saved:', fake_figs_dir + 'Picture' + str(i+1) + '.png')\n",
    "                # else:\n",
    "                #     fig.savefig(save_small_dir + 'Picture' + str(i+1) + '.png', dpi=dpi)\n",
    "                #     print('saved:', save_small_dir + 'Picture' + str(i+1) + '.png')\n",
    "                    \n",
    "                success = True\n",
    "            #except Exception as e:\n",
    "            else:\n",
    "                print('[ERROR]:')\n",
    "                plt.close(fig)\n",
    "                print('issue with plotting, trying again')\n",
    "                print(e)\n",
    "                if 'unknown color specifier' in str(e):\n",
    "                    print(e)\n",
    "                    import sys; sys.exit()\n",
    "                if 'At least one value in the dash list must be positive' in str(e):\n",
    "                    print(e)\n",
    "                    print(data_from_plots)\n",
    "    \n",
    "    \n",
    "    ####### end of plotting ############\n",
    "    # try the whole thing again\n",
    "    width, height = fig.canvas.get_width_height()\n",
    "    # save data\n",
    "    datas = {}\n",
    "    # figure datas\n",
    "    datas['figure'] = {'dpi':dpi, 'base':base, 'aspect ratio': aspect_fig, \n",
    "                          'nrows':nrows, 'ncols':ncols, \n",
    "                         'plot style':plot_style, \n",
    "                         'color map':color_map,\n",
    "                         'title fontsize':title_fontsize, \n",
    "                         'xlabel fontsize':xlabel_fontsize,\n",
    "                         'ylabel fontsize':ylabel_fontsize}\n",
    "    \n",
    "    # now, get data things\n",
    "    for iplot, ax in enumerate(axes):\n",
    "        ###### get data from plot ######\n",
    "        data_from_plot = data_from_plots[iplot]\n",
    "        data_for_plot = data_for_plots[iplot]\n",
    "        plot_type = plot_types[iplot]\n",
    "        title = titles[iplot]\n",
    "        xlabel = xlabels[iplot]\n",
    "        ylabel = ylabels[iplot]\n",
    "    \n",
    "        data_pixels = get_data_pixel_locations(data_from_plot, plot_type, ax, width, height)\n",
    "    \n",
    "        # bounding box of square\n",
    "        bbox = ax.get_position() # Bbox(x0, y0, x1, y1)\n",
    "        xpix1 = np.array([bbox.x0,bbox.x1])\n",
    "        ypix1 = np.array([bbox.y0,bbox.y1])\n",
    "        xpix1 *= width\n",
    "        ypix1 *= height\n",
    "        \n",
    "        # x-tick locations\n",
    "        xticks = get_ticks(ax.get_xticklabels(), ax.get_xticklines())\n",
    "    \n",
    "        # y-tick locations\n",
    "        yticks = get_ticks(ax.get_yticklabels(), ax.get_yticklines())\n",
    "        \n",
    "        # for colorbars\n",
    "        colorbar_ticks = []\n",
    "        if 'color bar' in data_from_plots[iplot]:\n",
    "            colorbar = data_from_plots[iplot]['color bar']\n",
    "            if data_from_plots[iplot]['color bar params']['side'] == 'left' \\\n",
    "               or data_from_plots[iplot]['color bar params']['side'] == 'right':\n",
    "                ticks = colorbar.get_yticklabels()\n",
    "                tick_locs = colorbar.get_yticklines(minor=False)\n",
    "            else:\n",
    "                ticks = colorbar.get_xticklabels()\n",
    "                tick_locs = colorbar.get_xticklines(minor=False)\n",
    "            colorbar_ticks = get_ticks(ticks, tick_locs)\n",
    "\n",
    "        # title\n",
    "        # Get the bounding box of the title in display space\n",
    "        if title != '':\n",
    "            title_bbox = title.get_window_extent()\n",
    "            title_words = title.get_text()\n",
    "        else:\n",
    "            title_bbox = -1\n",
    "            title_words = ''\n",
    "    \n",
    "        # xlabel\n",
    "        xlabel_bbox = xlabel.get_window_extent()\n",
    "        xlabel_words = xlabel.get_text()\n",
    "        # ylabel\n",
    "        ylabel_bbox = ylabel.get_window_extent()\n",
    "        ylabel_words = ylabel.get_text()\n",
    "    \n",
    "    \n",
    "        ########## save data ##############\n",
    "\n",
    "        # line plot \n",
    "        plot_name = 'plot' + str(iplot) \n",
    "        datas[plot_name] = {}\n",
    "        # line plot type\n",
    "        datas[plot_name]['type'] = plot_type # tag for kind of plot\n",
    "        datas[plot_name]['distribution'] = distribution_type\n",
    "        datas[plot_name]['data'] = data_for_plot\n",
    "        datas[plot_name]['data pixels'] = data_pixels\n",
    "        datas[plot_name]['data from plot'] = json.loads(json.dumps(data_from_plot, cls=NumpyEncoder))\n",
    "        if (plot_type == 'scatter' or plot_type == 'contour') and 'color bar' in data_from_plots[iplot]:\n",
    "            #print('yes indeed')\n",
    "            w = data_from_plots[iplot]['color bar'].get_window_extent()\n",
    "            datas[plot_name]['color bar'] = {'xmin':w.x0,'ymin':w.y0,\n",
    "                                             'xmax':w.x1,'ymax':w.y1, \n",
    "                                             'params':data_from_plot['color bar params']}\n",
    "        xtmp = []\n",
    "        for xt in xticks:\n",
    "            l = {'data':xt[0], 'xmin': xt[1], \n",
    "                 'ymin': xt[2], \n",
    "                 'xmax':xt[3], 'ymax':xt[4],\n",
    "                 'tx':xt[5], 'ty':xt[6]}\n",
    "            xtmp.append(l)\n",
    "        datas[plot_name]['xticks'] = xtmp.copy()\n",
    "        # \n",
    "        xtmp = []\n",
    "        for xt in yticks:\n",
    "            l = {'data':xt[0], 'xmin': xt[1], \n",
    "                 'ymin': xt[2], \n",
    "                 'xmax':xt[3], 'ymax':xt[4], \n",
    "                'tx':xt[5], 'ty':xt[6]}\n",
    "            xtmp.append(l)\n",
    "        datas[plot_name]['yticks'] = xtmp.copy()\n",
    "        if len(colorbar_ticks) > 0:\n",
    "            xtmp = []\n",
    "            for xt in colorbar_ticks:\n",
    "                l = {'data':xt[0], 'xmin': xt[1], \n",
    "                     'ymin': xt[2], \n",
    "                     'xmax':xt[3], 'ymax':xt[4], \n",
    "                    'tx':xt[5], 'ty':xt[6]}\n",
    "                xtmp.append(l)\n",
    "            datas[plot_name]['color bar ticks'] = xtmp.copy()\n",
    "            \n",
    "        # axis box\n",
    "        datas[plot_name]['square'] = {'xmin':xpix1[0], 'ymin':ypix1[0], \n",
    "                                         'xmax':xpix1[1], 'ymax':ypix1[1]}\n",
    "        # title\n",
    "        if title_bbox != -1:\n",
    "            datas[plot_name]['title'] = {'xmin':title_bbox.x0, 'ymin':title_bbox.y0, \n",
    "                                            'xmax':title_bbox.x1, 'ymax':title_bbox.y1,\n",
    "                                           'words':title_words}\n",
    "        else:\n",
    "            pass\n",
    "        datas[plot_name]['xlabel'] = {'xmin':xlabel_bbox.x0, 'ymin':xlabel_bbox.y0, \n",
    "                                        'xmax':xlabel_bbox.x1, 'ymax':xlabel_bbox.y1,\n",
    "                                       'words':xlabel_words}\n",
    "        datas[plot_name]['ylabel'] = {'xmin':ylabel_bbox.x0, 'ymin':ylabel_bbox.y0, \n",
    "                                        'xmax':ylabel_bbox.x1, 'ymax':ylabel_bbox.y1,\n",
    "                                       'words':ylabel_words}\n",
    "\n",
    "    # dump full data\n",
    "    dumped = json.dumps(datas, cls=NumpyEncoder)\n",
    "    with open(fake_figs_dir + 'Picture' + str(i+1) + '_fullData.json', 'w') as f:\n",
    "        json.dump(dumped, f)\n",
    "\n",
    "    # create qa pairs\n",
    "    qa_pairs = {}\n",
    "    \n",
    "    # basic figure level\n",
    "    qa_pairs['Level 1'] = {'Figure-level questions':{}}\n",
    "    qa_pairs = q1(datas, qa_pairs)\n",
    "    qa_pairs = q2(datas, qa_pairs)\n",
    "    qa_pairs = q3(datas, qa_pairs)\n",
    "    qa_pairs = q4(datas, qa_pairs)\n",
    "\n",
    "    # basic, plot-level\n",
    "    # titles/axis labels\n",
    "    qa_pairs['Level 1'] = {'Plot-level questions':{}}\n",
    "    qa_pairs = q_plot_titles(datas, qa_pairs)\n",
    "    qa_pairs = q_plot_xlabels(datas, qa_pairs)\n",
    "    qa_pairs = q_plot_ylabels(datas, qa_pairs)\n",
    "    # x/y axis tick labels\n",
    "    qa_pairs = ticklabels(datas, qa_pairs, tick_type='x')\n",
    "    qa_pairs = ticklabels(datas, qa_pairs, tick_type='y')\n",
    "    # plot types\n",
    "    qa_pairs = q_plot_types(datas, qa_pairs, plot_types, use_list=True)\n",
    "\n",
    "    # line-plot specifics\n",
    "    if datas['plot0']['type'] == 'line':\n",
    "        qa_pairs = q_nlines(datas, qa_pairs)\n",
    "    \n",
    "    # also dump qa\n",
    "    with open(fake_figs_dir + 'Picture' + str(i+1) + '_qa.json', 'w') as f:\n",
    "        json.dump(qa_pairs, f)\n",
    "            \n",
    "    # for full thing\n",
    "    #datas_all[i] = datas.copy()\n",
    "    plt.close(fig)\n",
    "print('DONE!')\n",
    "# back to basics\n",
    "plt.style.use('default')"
   ]
  },
  {
   "cell_type": "code",
   "execution_count": 329,
   "id": "b71f3a4a-dd39-4e0c-9c05-e9782f45816f",
   "metadata": {},
   "outputs": [
    {
     "data": {
      "image/png": "[encoded data removed]",
      "text/plain": [
       "<Figure size 2120x907.751 with 4 Axes>"
      ]
     },
     "execution_count": 329,
     "metadata": {},
     "output_type": "execute_result"
    }
   ],
   "source": [
    "fig"
   ]
  },
  {
   "cell_type": "code",
   "execution_count": 330,
   "id": "eae48056-4d00-4b06-ae3f-1b5d971d74e4",
   "metadata": {},
   "outputs": [
    {
     "data": {
      "text/plain": [
       "{'dpi': 212,\n",
       " 'base': 5,\n",
       " 'aspect ratio': 0.42818432319311284,\n",
       " 'nrows': 2,\n",
       " 'ncols': 2,\n",
       " 'plot style': 'seaborn-v0_8-pastel',\n",
       " 'color map': 'gray',\n",
       " 'title fontsize': 18,\n",
       " 'xlabel fontsize': 15,\n",
       " 'ylabel fontsize': 15}"
      ]
     },
     "execution_count": 330,
     "metadata": {},
     "output_type": "execute_result"
    }
   ],
   "source": [
    "datas['figure']"
   ]
  },
  {
   "cell_type": "code",
   "execution_count": 397,
   "id": "d1e17fdc-73fc-4a28-bd87-50b4867d301a",
   "metadata": {},
   "outputs": [
    {
     "data": {
      "image/png": "[encoded data removed]",
      "text/plain": [
       "<Figure size 640x480 with 12 Axes>"
      ]
     },
     "metadata": {},
     "output_type": "display_data"
    }
   ],
   "source": [
    "fig2, ax2 = plt.subplots(3,4)\n",
    "\n",
    "plot_inds = np.empty(shape=(ax2.shape[0], ax2.shape[1],2), dtype=int)\n",
    "for i in range(ax2.shape[0]):\n",
    "    for j in range(ax2.shape[1]):\n",
    "        plot_inds[i,j][0] = i\n",
    "        plot_inds[i,j][1] = j"
   ]
  },
  {
   "cell_type": "code",
   "execution_count": 411,
   "id": "d00d4aae-ed39-4142-a43b-a881ae52027e",
   "metadata": {},
   "outputs": [
    {
     "data": {
      "text/plain": [
       "array([[0, 0],\n",
       "       [0, 1],\n",
       "       [0, 2],\n",
       "       [0, 3],\n",
       "       [1, 0],\n",
       "       [1, 1],\n",
       "       [1, 2],\n",
       "       [1, 3],\n",
       "       [2, 0],\n",
       "       [2, 1],\n",
       "       [2, 2],\n",
       "       [2, 3]])"
      ]
     },
     "execution_count": 411,
     "metadata": {},
     "output_type": "execute_result"
    }
   ],
   "source": [
    "plot_inds.reshape((ax2.shape[0]*ax2.shape[1],-1))"
   ]
  },
  {
   "cell_type": "code",
   "execution_count": null,
   "id": "42021770-ff2b-43dd-a039-865192754613",
   "metadata": {},
   "outputs": [],
   "source": []
  },
  {
   "cell_type": "code",
   "execution_count": null,
   "id": "758ab742-dc49-4aa0-9e76-83b801596fea",
   "metadata": {},
   "outputs": [],
   "source": []
  },
  {
   "cell_type": "markdown",
   "id": "5a0f24f2-f73c-42d4-99b0-87514266f9cf",
   "metadata": {},
   "source": [
    "### Generate QA Pairs from saved data\n",
    "\n",
    "Inspiration comes from:\n",
    "* cPAPERS: http://arxiv.org/abs/2406.08398"
   ]
  },
  {
   "cell_type": "code",
   "execution_count": null,
   "id": "159e7957-4532-4b54-9f69-528b4b4fbd12",
   "metadata": {},
   "outputs": [],
   "source": []
  },
  {
   "cell_type": "markdown",
   "id": "68147652-f1f0-4c05-aa3a-db6a13a768f1",
   "metadata": {},
   "source": [
    "### Basics: L1\n",
    "\n",
    "#### Figure-level questions\n",
    "1. How many plots"
   ]
  },
  {
   "cell_type": "code",
   "execution_count": 332,
   "id": "d0dfb4e2-023f-4618-a55c-0b902f8ea44a",
   "metadata": {},
   "outputs": [],
   "source": [
    "#for k,data in datas_all.items():\n",
    "def q1(data, qa_pairs, return_qa=True):\n",
    "    q1 = 'How many panels are in this figure?'\n",
    "    q1 += ' You are a helpful assistant, please format the output as a json as {\"nrows\":\"\", \"ncols\":\"\"} to store the number of rows and columns.'\n",
    "    a1 = {\"nrows\":data['figure']['nrows'], \"ncols\":data['figure']['ncols']}\n",
    "    print('QUESTION:', q1)\n",
    "    print('ANSWER:', a1)\n",
    "    print('')\n",
    "    # add to pairs\n",
    "    if return_qa: qa_pairs['Level 1']['Figure-level questions']['rows/columns'] = {'Q':q1, 'A':a1}\n",
    "    return qa_pairs"
   ]
  },
  {
   "cell_type": "markdown",
   "id": "5b78fac8-e5c4-4c98-9414-d52fd6985e86",
   "metadata": {},
   "source": [
    "2. What is the plot style?"
   ]
  },
  {
   "cell_type": "code",
   "execution_count": 333,
   "id": "cd069f74-b774-4d2a-9360-aeedcc2006d2",
   "metadata": {},
   "outputs": [],
   "source": [
    "#for k,data in datas_all.items():\n",
    "def q2(data, qa_pairs, return_qa=True):\n",
    "    q2 = 'Assuming this is a figure made with matplotlib in Python, what is the plot style used?  Examples of plotting styles are \"classic\" or \"ggplot\".'\n",
    "    q2 += ' You are a helpful assistant, please format the output as a json as {\"plot style\":\"\"} to store the matplotlib plotting style used in the figure.'\n",
    "    a2 = {\"plot style\":data['figure']['plot style']}\n",
    "    print('QUESTION:', q2)\n",
    "    print('ANSWER:', a2)\n",
    "    print('')\n",
    "    # add to pairs\n",
    "    if return_qa: qa_pairs['Level 1']['Figure-level questions']['plot style'] = {'Q':q2, 'A':a2}\n",
    "    return qa_pairs"
   ]
  },
  {
   "cell_type": "markdown",
   "id": "52554f18-1890-4e22-b46f-b9cf626ffe43",
   "metadata": {},
   "source": [
    "3. Color map"
   ]
  },
  {
   "cell_type": "code",
   "execution_count": 334,
   "id": "c55225cc-230c-4580-8cbd-dcb7fd5a0118",
   "metadata": {},
   "outputs": [],
   "source": [
    "#for k,data in datas_all.items():\n",
    "def q3(data, qa_pairs, return_qa=True):\n",
    "    q2 = 'Assuming this is a figure made with matplotlib in Python, what is the colormap that was used?  Examples of matplotlib colormaps are \"rainbow\" or \"Reds\".'\n",
    "    q2 += ' You are a helpful assistant, please format the output as a json as {\"colormap\":\"\"} to store the matplotlib colormap used in the figure.'\n",
    "    a2 = {\"colormap\":data['figure']['color map']}\n",
    "    print('QUESTION:', q2)\n",
    "    print('ANSWER:', a2)\n",
    "    print('')\n",
    "    # add to pairs\n",
    "    if return_qa: qa_pairs['Level 1']['Figure-level questions']['colormap'] = {'Q':q2, 'A':a2, \n",
    "                                                                 'notes':\"Some of the plot styles don't allow for updates to the colormap for REASONS, so just keep that in mind.\"}\n",
    "    return qa_pairs"
   ]
  },
  {
   "cell_type": "markdown",
   "id": "b21f5bd8-57c4-438e-b99e-c4a148335959",
   "metadata": {},
   "source": [
    "4. Aspect ratio"
   ]
  },
  {
   "cell_type": "code",
   "execution_count": 335,
   "id": "8bd780c9-3655-4b09-a6d8-84db3c54718b",
   "metadata": {},
   "outputs": [],
   "source": [
    "#for k,data in datas_all.items():\n",
    "def q4(data, qa_pairs, return_qa=True):\n",
    "    q1 = 'What is the aspect ratio of this figure?'\n",
    "    q1 += ' You are a helpful assistant, please format the output as a json as {\"aspect ratio\":\"\"} to store the aspect ratio of the plot.'\n",
    "    a1 = {\"aspect ratio\":data['figure']['aspect ratio']}\n",
    "    print('QUESTION:', q1)\n",
    "    print('ANSWER:', a1)\n",
    "    print('')\n",
    "    # add to pairs\n",
    "    if return_qa: qa_pairs['Level 1']['Figure-level questions']['aspect ratio'] = {'Q':q1, 'A':a1}\n",
    "    return qa_pairs"
   ]
  },
  {
   "cell_type": "markdown",
   "id": "61bc79b0-d5f9-4177-8cc0-72282434e7f1",
   "metadata": {},
   "source": [
    "5. DPI"
   ]
  },
  {
   "cell_type": "code",
   "execution_count": 336,
   "id": "803b20e1-7c6f-4322-8a33-6215d952cc4a",
   "metadata": {},
   "outputs": [],
   "source": [
    "def dpi(data, qa_pairs, return_qa=True):\n",
    "    q1 = 'What is the DPI (dots per square inch) of this figure?'\n",
    "    q1 += ' You are a helpful assistant, please format the output as a json as {\"dpi\":\"\"} to store the DPI of the plot.'\n",
    "    a1 = {\"dpi\":data['figure']['dpi']}\n",
    "    print('QUESTION:', q1)\n",
    "    print('ANSWER:', a1)\n",
    "    print('')\n",
    "    # add to pairs\n",
    "    if return_qa: \n",
    "        qa_pairs['Level 1']['Figure-level questions']['dpi'] = {'Q':q1, 'A':a1}\n",
    "        return qa_pairs"
   ]
  },
  {
   "cell_type": "code",
   "execution_count": 337,
   "id": "d50dca64-0b33-4b48-991b-c0a9a67f0424",
   "metadata": {},
   "outputs": [
    {
     "name": "stdout",
     "output_type": "stream",
     "text": [
      "QUESTION: What is the DPI (dots per square inch) of this figure? You are a helpful assistant, please format the output as a json as {\"dpi\":\"\"} to store the DPI of the plot.\n",
      "ANSWER: {'dpi': 212}\n",
      "\n"
     ]
    }
   ],
   "source": [
    "dpi(datas, qa_pairs, return_qa=False)"
   ]
  },
  {
   "cell_type": "markdown",
   "id": "c1c7d349-b9f8-4436-954c-c0a0bdbe59b7",
   "metadata": {},
   "source": [
    "#### Specific to individual plots"
   ]
  },
  {
   "cell_type": "markdown",
   "id": "b107468f-8d0d-4b9f-83be-4516f350ef6d",
   "metadata": {},
   "source": [
    "Title/axis labels:"
   ]
  },
  {
   "cell_type": "code",
   "execution_count": 338,
   "id": "811238f7-67b5-47fd-bdf1-eb89cbf52cf0",
   "metadata": {},
   "outputs": [],
   "source": [
    "def q_plot_titles(data, qa_pairs, return_qa=True):\n",
    "    q = 'What are the titles for each figure panel?'\n",
    "    q += ' You are a helpful assistant, please format the output as a json as {\"titles\":[]}, where the list is a list of strings of all of the titles.  '\n",
    "    q += 'If there is a single plot, this should be one element in this list, and if there are multiple plots the list should be in row-major (C-style) order.'\n",
    "    q += \" If a plot does not have a title, then denote this by an empty string in the list.  Please format any formulas in the title in a Python LaTeX string (for example 'Light $\\\\\\\\alpha$'). \"\n",
    "    la = []\n",
    "    for k,v in data.items():\n",
    "        if 'plot' in k: # is a plot\n",
    "            if 'title' not in v:\n",
    "                la.append(\"\")\n",
    "            else:\n",
    "                la.append(v['title']['words'])\n",
    "    a = {\"title\":la}\n",
    "    print('QUESTION:', q)\n",
    "    print('ANSWER:', a)\n",
    "    if return_qa: \n",
    "        qa_pairs['Level 1']['Plot-level questions']['titles'] = {'Q':q, 'A':a}\n",
    "        return qa_pairs"
   ]
  },
  {
   "cell_type": "code",
   "execution_count": 339,
   "id": "c7250185-0391-4509-9aba-89917e3ab2d9",
   "metadata": {},
   "outputs": [
    {
     "name": "stdout",
     "output_type": "stream",
     "text": [
      "QUESTION: What are the titles for each figure panel? You are a helpful assistant, please format the output as a json as {\"titles\":[]}, where the list is a list of strings of all of the titles.  If there is a single plot, this should be one element in this list, and if there are multiple plots the list should be in row-major (C-style) order. If a plot does not have a title, then denote this by an empty string in the list.  Please format any formulas in the title in a Python LaTeX string (for example 'Light $\\\\alpha$'). \n",
      "ANSWER: {'title': ['Action Collisions', 'DENSITY BIN MAJORITY IDEA $\\\\alpha=-1.07$ ', '', 'Analyze Asteroid']}\n"
     ]
    }
   ],
   "source": [
    "q_plot_titles(datas, qa_pairs, return_qa=False)"
   ]
  },
  {
   "cell_type": "code",
   "execution_count": 340,
   "id": "07d9d84c-7189-4d54-89a2-5f2165aefae3",
   "metadata": {},
   "outputs": [],
   "source": [
    "def q_plot_xlabels(data, qa_pairs, return_qa=True):\n",
    "    q = 'What are the x-axis titles for each figure panel?'\n",
    "    q += ' You are a helpful assistant, please format the output as a json as {\"xlabels\":[]}, where the list is a list of strings of all of the x-axis titles.  '\n",
    "    q += 'If there is a single plot, this should be one element in this list, and if there are multiple plots the list should be in row-major (C-style) order.'\n",
    "    q += \" If a plot does not have an x-axis title, then denote this by an empty string in the list.  \"\n",
    "    q += \"Please format any formulas in the title in a Python LaTeX string (for example 'Light $\\\\\\\\alpha$'). \"\n",
    "    la = []\n",
    "    for k,v in data.items():\n",
    "        if 'plot' in k: # is a plot\n",
    "            if 'xlabel' not in v:\n",
    "                la.append(\"\")\n",
    "            else:\n",
    "                la.append(v['xlabel']['words'])\n",
    "    a = {\"xlabels\":la}\n",
    "    print('QUESTION:', q)\n",
    "    print('ANSWER:', a)\n",
    "    if return_qa: \n",
    "        qa_pairs['Level 1']['Plot-level questions']['xlabels'] = {'Q':q, 'A':a}\n",
    "        return qa_pairs"
   ]
  },
  {
   "cell_type": "code",
   "execution_count": 341,
   "id": "f6c5a451-faa8-44ce-9d73-5a1dfae51bee",
   "metadata": {},
   "outputs": [
    {
     "name": "stdout",
     "output_type": "stream",
     "text": [
      "QUESTION: What are the x-axis titles for each figure panel? You are a helpful assistant, please format the output as a json as {\"xlabels\":[]}, where the list is a list of strings of all of the x-axis titles.  If there is a single plot, this should be one element in this list, and if there are multiple plots the list should be in row-major (C-style) order. If a plot does not have an x-axis title, then denote this by an empty string in the list.  Please format any formulas in the title in a Python LaTeX string (for example 'Light $\\\\alpha$'). \n",
      "ANSWER: {'xlabels': ['SURVEY', 'Standard $X_P=14!$  Tracks', 'EVOLVES', 'CONSTITUTE GLOBULAR LISTS']}\n"
     ]
    }
   ],
   "source": [
    "q_plot_xlabels(datas, qa_pairs, return_qa=False)"
   ]
  },
  {
   "cell_type": "code",
   "execution_count": 342,
   "id": "2dfe744e-432e-4893-abcf-e081cd280f04",
   "metadata": {},
   "outputs": [],
   "source": [
    "def q_plot_ylabels(data, qa_pairs, return_qa=True):\n",
    "    q = 'What are the y-axis titles for each figure panel?'\n",
    "    q += ' You are a helpful assistant, please format the output as a json as {\"ylabels\":[]}, where the list is a list of strings of all of the y-axis titles.  '\n",
    "    q += 'If there is a single plot, this should be one element in this list, and if there are multiple plots the list should be in row-major (C-style) order.'\n",
    "    q += \" If a plot does not have an y-axis title, then denote this by an empty string in the list.  \"\n",
    "    q += \"Please format any formulas in the title in a Python LaTeX string (for example 'Light $\\\\\\\\alpha$'). \"\n",
    "    la = []\n",
    "    for k,v in data.items():\n",
    "        if 'plot' in k: # is a plot\n",
    "            if 'ylabel' not in v:\n",
    "                la.append(\"\")\n",
    "            else:\n",
    "                la.append(v['ylabel']['words'])\n",
    "    a = {\"ylabels\":la}\n",
    "    print('QUESTION:', q)\n",
    "    print('ANSWER:', a)\n",
    "    if return_qa: \n",
    "        qa_pairs['Level 1']['Plot-level questions']['ylabels'] = {'Q':q, 'A':a}\n",
    "        return qa_pairs"
   ]
  },
  {
   "cell_type": "code",
   "execution_count": 343,
   "id": "31ee5391-6c17-4c57-b48b-765df3067344",
   "metadata": {},
   "outputs": [
    {
     "name": "stdout",
     "output_type": "stream",
     "text": [
      "QUESTION: What are the y-axis titles for each figure panel? You are a helpful assistant, please format the output as a json as {\"ylabels\":[]}, where the list is a list of strings of all of the y-axis titles.  If there is a single plot, this should be one element in this list, and if there are multiple plots the list should be in row-major (C-style) order. If a plot does not have an y-axis title, then denote this by an empty string in the list.  Please format any formulas in the title in a Python LaTeX string (for example 'Light $\\\\alpha$'). \n",
      "ANSWER: {'ylabels': ['Rotation Places', 'Return', '$\\\\times 800$  $f_\\\\mathrm{F444W}$  AMOUNT', 'Majority']}\n"
     ]
    }
   ],
   "source": [
    "q_plot_ylabels(datas, qa_pairs, return_qa=False)"
   ]
  },
  {
   "cell_type": "markdown",
   "id": "10c6c1eb-167f-4e7e-ae2f-6c1ae90b9afb",
   "metadata": {},
   "source": [
    "x/y tick label values"
   ]
  },
  {
   "cell_type": "code",
   "execution_count": 344,
   "id": "567dad12-467a-425d-8611-15177ab8ddae",
   "metadata": {},
   "outputs": [],
   "source": [
    "def ticklabels(data, qa_pairs, tick_type='x', return_qa=True):\n",
    "    q = 'What are the values for each of the tick marks on the '+tick_type+'-axis?'\n",
    "    q += ' You are a helpful assistant, please format the output as a json as {\"'+tick_type+'tick values\":[[]]}, where each element of the outer list refers to a single panel, '\n",
    "    q += 'and each inner list is a list of the '+tick_type+'-axis tick mark values. '\n",
    "    q += 'If there is a single plot, this should be one element in the outer list, and if there are multiple plots the outer list should be in row-major (C-style) order.'\n",
    "    q += \" If a plot does not have any \"+tick_type+\"-axis tick values, then denote this by an empty string in the inner list.  \"\n",
    "    q += \"Please format any formulas in the \"+tick_type+\"-axis tick values in a Python LaTeX string (for example 'Light $\\\\\\\\alpha$'). \"\n",
    "    la = []\n",
    "    for k,v in data.items():\n",
    "        if 'plot' in k: # is a plot\n",
    "            if tick_type+'ticks' not in v:\n",
    "                la.append(\"\")\n",
    "            else:\n",
    "                t = []\n",
    "                for l in v[tick_type+'ticks']:\n",
    "                    t.append(l['data'])\n",
    "                la.append(t)\n",
    "    a = {tick_type+\"tick values\":la}\n",
    "    print('QUESTION:', q)\n",
    "    print('ANSWER:', a)\n",
    "    if return_qa: \n",
    "        qa_pairs['Level 1']['Plot-level questions'][tick_type+'tick values'] = {'Q':q, 'A':a}\n",
    "        return qa_pairs"
   ]
  },
  {
   "cell_type": "code",
   "execution_count": 345,
   "id": "1e8a50b0-112f-4454-86f0-006a3fb38b8c",
   "metadata": {},
   "outputs": [
    {
     "name": "stdout",
     "output_type": "stream",
     "text": [
      "QUESTION: What are the values for each of the tick marks on the x-axis? You are a helpful assistant, please format the output as a json as {\"xtick values\":[[]]}, where each element of the outer list refers to a single panel, and each inner list is a list of the x-axis tick mark values. If there is a single plot, this should be one element in the outer list, and if there are multiple plots the outer list should be in row-major (C-style) order. If a plot does not have any x-axis tick values, then denote this by an empty string in the inner list.  Please format any formulas in the x-axis tick values in a Python LaTeX string (for example 'Light $\\\\alpha$'). \n",
      "ANSWER: {'xtick values': [['$\\\\mathdefault{1000}$', '$\\\\mathdefault{2000}$', '$\\\\mathdefault{3000}$', '$\\\\mathdefault{4000}$', '$\\\\mathdefault{5000}$', '$\\\\mathdefault{6000}$'], ['$\\\\mathdefault{5000}$', '$\\\\mathdefault{5500}$', '$\\\\mathdefault{6000}$', '$\\\\mathdefault{6500}$', '$\\\\mathdefault{7000}$', '$\\\\mathdefault{7500}$', '$\\\\mathdefault{8000}$', '$\\\\mathdefault{8500}$', '$\\\\mathdefault{9000}$', '$\\\\mathdefault{9500}$'], ['$\\\\mathdefault{−10000}$', '$\\\\mathdefault{−8000}$', '$\\\\mathdefault{−6000}$', '$\\\\mathdefault{−4000}$', '$\\\\mathdefault{−2000}$', '$\\\\mathdefault{0}$', '$\\\\mathdefault{2000}$', '$\\\\mathdefault{4000}$', '$\\\\mathdefault{6000}$', '$\\\\mathdefault{8000}$'], ['$\\\\mathdefault{−10000}$', '$\\\\mathdefault{−8000}$', '$\\\\mathdefault{−6000}$', '$\\\\mathdefault{−4000}$', '$\\\\mathdefault{−2000}$', '$\\\\mathdefault{0}$', '$\\\\mathdefault{2000}$', '$\\\\mathdefault{4000}$', '$\\\\mathdefault{6000}$']]}\n"
     ]
    }
   ],
   "source": [
    "ticklabels(datas, qa_pairs, tick_type='x', return_qa=False)"
   ]
  },
  {
   "cell_type": "code",
   "execution_count": 346,
   "id": "6f663dfc-136a-4678-9e9c-b5fd0147fd28",
   "metadata": {},
   "outputs": [
    {
     "name": "stdout",
     "output_type": "stream",
     "text": [
      "QUESTION: What are the values for each of the tick marks on the y-axis? You are a helpful assistant, please format the output as a json as {\"ytick values\":[[]]}, where each element of the outer list refers to a single panel, and each inner list is a list of the y-axis tick mark values. If there is a single plot, this should be one element in the outer list, and if there are multiple plots the outer list should be in row-major (C-style) order. If a plot does not have any y-axis tick values, then denote this by an empty string in the inner list.  Please format any formulas in the y-axis tick values in a Python LaTeX string (for example 'Light $\\\\alpha$'). \n",
      "ANSWER: {'ytick values': [['$\\\\mathdefault{−20000}$', '$\\\\mathdefault{0}$', '$\\\\mathdefault{20000}$', '$\\\\mathdefault{40000}$'], ['$\\\\mathdefault{−100000}$', '$\\\\mathdefault{−50000}$', '$\\\\mathdefault{0}$', '$\\\\mathdefault{50000}$'], ['$\\\\mathdefault{−50000}$', '$\\\\mathdefault{−25000}$', '$\\\\mathdefault{0}$', '$\\\\mathdefault{25000}$', '$\\\\mathdefault{50000}$'], ['$\\\\mathdefault{−50000}$', '$\\\\mathdefault{−25000}$', '$\\\\mathdefault{0}$', '$\\\\mathdefault{25000}$', '$\\\\mathdefault{50000}$', '$\\\\mathdefault{75000}$']]}\n"
     ]
    }
   ],
   "source": [
    "ticklabels(datas, qa_pairs, tick_type='y', return_qa=False)"
   ]
  },
  {
   "cell_type": "markdown",
   "id": "e0ee22e4-284c-4515-9370-b12e26ec0875",
   "metadata": {},
   "source": [
    "Plot types:"
   ]
  },
  {
   "cell_type": "code",
   "execution_count": 347,
   "id": "c5c5e6b7-b794-4881-bdf2-50f1faef8755",
   "metadata": {},
   "outputs": [],
   "source": [
    "def q_plot_types(data, qa_pairs, plot_types, return_qa=True, use_list=True):\n",
    "    q = 'What are the plot types for each panel in the figure? '\n",
    "    q += 'You are a helpful assistant, please format the output as a json as {\"plot types\":[]}, where each element of the list refers to the plot type of a single panel. '\n",
    "    q += 'If there is a single plot, this should be one element in this list, and if there are multiple plots the list should be in row-major (C-style) order. '\n",
    "    if use_list:\n",
    "        q += 'Please choose each plot type from the following list: ['\n",
    "        for pt in plot_types:\n",
    "            q += pt + ', '\n",
    "        q = q[:-2] # take off the last bit\n",
    "        q += '].'\n",
    "    la = []\n",
    "    for k,v in data.items():\n",
    "        if 'plot' in k: # is a plot\n",
    "            if 'type' not in v:\n",
    "                la.append(\"\")\n",
    "            else:\n",
    "                la.append(v['type'])\n",
    "    a = {\"plot types\":la}\n",
    "    print('QUESTION:', q)\n",
    "    print('ANSWER:', a)\n",
    "    if return_qa: \n",
    "        qa_pairs['Level 1']['Plot-level questions']['plot types'] = {'Q':q, 'A':a}\n",
    "        return qa_pairs"
   ]
  },
  {
   "cell_type": "code",
   "execution_count": 348,
   "id": "d5fc058c-67f0-4509-b818-1d48f75c6a41",
   "metadata": {},
   "outputs": [
    {
     "name": "stdout",
     "output_type": "stream",
     "text": [
      "QUESTION: What are the plot types for each panel in the figure? You are a helpful assistant, please format the output as a json as {\"plot types\":[]}, where each element of the list refers to the plot type of a single panel. If there is a single plot, this should be one element in this list, and if there are multiple plots the list should be in row-major (C-style) order. Please choose each plot type from the following list: [line, line, line, line].\n",
      "ANSWER: {'plot types': ['line', 'line', 'line', 'line']}\n"
     ]
    }
   ],
   "source": [
    "q_plot_types(datas, qa_pairs, plot_types, return_qa=False, use_list=True)"
   ]
  },
  {
   "cell_type": "code",
   "execution_count": 349,
   "id": "dc3e3012-8fc4-47e6-b7e3-af413bbad961",
   "metadata": {},
   "outputs": [
    {
     "name": "stdout",
     "output_type": "stream",
     "text": [
      "QUESTION: What are the plot types for each panel in the figure? You are a helpful assistant, please format the output as a json as {\"plot types\":[]}, where each element of the list refers to the plot type of a single panel. If there is a single plot, this should be one element in this list, and if there are multiple plots the list should be in row-major (C-style) order. \n",
      "ANSWER: {'plot types': ['line', 'line', 'line', 'line']}\n"
     ]
    }
   ],
   "source": [
    "q_plot_types(datas, qa_pairs, plot_types, return_qa=False, use_list=False)"
   ]
  },
  {
   "cell_type": "markdown",
   "id": "ee03941e-45b3-4fd9-abc4-ff11d6f1a14f",
   "metadata": {},
   "source": [
    "#### Line plot - specific questions\n",
    "If line plot: how many lines?"
   ]
  },
  {
   "cell_type": "code",
   "execution_count": 394,
   "id": "46d08d97-84fc-418d-8714-52182ff741d7",
   "metadata": {},
   "outputs": [],
   "source": [
    "def q_nlines_plot(data, qa_pairs, plot_num = 0, return_qa=True):\n",
    "    q = 'How many different lines are there for plot number '+str(plot_num)+'? '\n",
    "    q += 'If there is one plot, then this plot number refers to the single plot. '\n",
    "    q += 'If there are multiple plots the panels will be in row-major (C-style) order, with the numbering starting at 0. '\n",
    "    q += 'You are a helpful assistant, please format the output as a json as {\"nlines\":\"\"} for this figure panel, where the \"nlines\" value should be an integer.'\n",
    "    # get answer list\n",
    "    la = []\n",
    "    for k,v in data.items():\n",
    "        if 'plot' + str(plot_num) in k: # is a plot\n",
    "            nlines = len(v['data']['data params'].keys())\n",
    "            la.append(nlines)\n",
    "    a = {\"nlines\":{'plot'+str(plot_num):la[0]}} # the 0 is a bit hacky\n",
    "    print('QUESTION:', q)\n",
    "    print('ANSWER:', a)\n",
    "    if return_qa: \n",
    "        if 'nlines' not in qa_pairs['Level 1']['Plot-level questions']:\n",
    "            qa_pairs['Level 1']['Plot-level questions']['nlines'] = {'plot'+str(plot_num):{'Q':q, 'A':a}}\n",
    "        else:\n",
    "            qa_pairs['Level 1']['Plot-level questions']['nlines']['plot'+str(plot_num)] = {'Q':q, 'A':a}\n",
    "        return qa_pairs"
   ]
  },
  {
   "cell_type": "code",
   "execution_count": 395,
   "id": "7a2353c7-7790-4112-962d-d5bdaa856d48",
   "metadata": {},
   "outputs": [
    {
     "name": "stdout",
     "output_type": "stream",
     "text": [
      "QUESTION: How many different lines are there for plot number 1? If there is one plot, then this plot number refers to the single plot. If there are multiple plots the panels will be in row-major (C-style) order, with the numbering starting at 0. You are a helpful assistant, please format the output as a json as {\"nlines\":\"\"} for this figure panel, where the \"nlines\" value should be an integer.\n",
      "ANSWER: {'nlines': {'plot1': 7}}\n"
     ]
    }
   ],
   "source": [
    "plot_num = 1\n",
    "\n",
    "if datas['plot'+str(plot_num)]['type'] == 'line':\n",
    "    q_nlines_plot(datas, qa_pairs, plot_num=plot_num, return_qa=False)"
   ]
  },
  {
   "cell_type": "code",
   "execution_count": null,
   "id": "74c50675-ae0f-4001-b514-acd9d0a2648a",
   "metadata": {},
   "outputs": [],
   "source": []
  },
  {
   "cell_type": "code",
   "execution_count": null,
   "id": "88bf0931-19fd-480a-a7cf-a5c75115ff5f",
   "metadata": {},
   "outputs": [],
   "source": [
    "**HERE** each of these need to be per axis (in C-order, starting from 0)**"
   ]
  },
  {
   "cell_type": "code",
   "execution_count": 367,
   "id": "677bd9ae-df7e-4d77-bc99-3436a182bfff",
   "metadata": {},
   "outputs": [],
   "source": [
    "def q_nlines(data, qa_pairs, return_qa=True):\n",
    "    q = 'How many different types of lines are there for each panel in the figure? '\n",
    "    q += 'You are a helpful assistant, please format the output as a json as {\"nlines\":[]}, where each element of the list refers to the number of lines of a single panel. '\n",
    "    q += 'If there is a single plot, this should be one element in this list, and if there are multiple plots the list should be in row-major (C-style) order. '\n",
    "    # get answer list\n",
    "    la = []\n",
    "    for k,v in data.items():\n",
    "        if 'plot' in k: # is a plot\n",
    "            nlines = len(v['data']['data params'].keys())\n",
    "            la.append(nlines)\n",
    "    a = {\"nlines\":la}\n",
    "    print('QUESTION:', q)\n",
    "    print('ANSWER:', a)\n",
    "    if return_qa: \n",
    "        qa_pairs['Level 1']['Plot-level questions']['nlines'] = {'Q':q, 'A':a}\n",
    "        return qa_pairs"
   ]
  },
  {
   "cell_type": "code",
   "execution_count": 369,
   "id": "993085d2-c626-4d9d-bacf-4ffa5003afa8",
   "metadata": {},
   "outputs": [
    {
     "name": "stdout",
     "output_type": "stream",
     "text": [
      "QUESTION: How many different types of lines are there for each panel in the figure? You are a helpful assistant, please format the output as a json as {\"nlines\":[]}, where each element of the list refers to the number of lines of a single panel. If there is a single plot, this should be one element in this list, and if there are multiple plots the list should be in row-major (C-style) order. \n",
      "ANSWER: {'nlines': [3, 7, 2, 7]}\n"
     ]
    }
   ],
   "source": [
    "if datas['plot0']['type'] == 'line':\n",
    "    q_nlines(datas, qa_pairs, return_qa=False)"
   ]
  },
  {
   "cell_type": "markdown",
   "id": "8be2ae4e-5357-4877-a2ea-ff4eeffbbd4e",
   "metadata": {},
   "source": [
    "Colors of each line:"
   ]
  },
  {
   "cell_type": "code",
   "execution_count": 377,
   "id": "25bff12d-a06f-45f1-886f-f10fa20eb453",
   "metadata": {},
   "outputs": [],
   "source": [
    "def q_colors_lines(data, qa_pairs, return_qa=True):\n",
    "    q = 'What are the colors of each of the lines are there for each panel in the figure? '\n",
    "    q += 'You are a helpful assistant, please format the output as a json as {\"line colors\":[[]]}, where each element of the outer list refers to a figure panel, '\n",
    "    q += 'and each element of the inner list is the color of each line in a single panel figure in the form of an RGBA list with values between 0 and 1. '\n",
    "    q += 'If there is a single plot, this should be one element in the outer list, and if there are multiple plots the outer list should be in row-major (C-style) order. '\n",
    "    # get answer list\n",
    "    la = []\n",
    "    for k,v in data.items():\n",
    "        if 'plot' in k: # is a plot\n",
    "            t = [] \n",
    "            for c in v['data from plot']['plot params']['colors']:\n",
    "                t.append(c[0]) # the \"0\" here is because, in theory, the line could be made up of more than one color\n",
    "            la.append(t)\n",
    "    # construct outputs\n",
    "    a = {\"line colors\":la}\n",
    "    print('QUESTION:', q)\n",
    "    print('ANSWER:', a)\n",
    "    if return_qa: \n",
    "        qa_pairs['Level 1']['Plot-level questions']['line colors'] = {'Q':q, 'A':a}\n",
    "        return qa_pairs"
   ]
  },
  {
   "cell_type": "code",
   "execution_count": 378,
   "id": "533d047e-95af-45c2-9859-0619173bca05",
   "metadata": {},
   "outputs": [
    {
     "name": "stdout",
     "output_type": "stream",
     "text": [
      "QUESTION: What are the colors of each of the lines are there for each panel in the figure? You are a helpful assistant, please format the output as a json as {\"line colors\":[[]]}, where each element of the outer list refers to a figure panel, and each element of the inner list is the color of each line in a single panel figure in the form of an RGBA list with values between 0 and 1. If there is a single plot, this should be one element in the outer list, and if there are multiple plots the outer list should be in row-major (C-style) order. \n",
      "ANSWER: {'line colors': [[[0.5725490196078431, 0.7764705882352941, 1.0, 1.0], [1.0, 0.6235294117647059, 0.6039215686274509, 1.0], [1.0, 0.996078431372549, 0.6392156862745098, 1.0]], [[0.5725490196078431, 0.7764705882352941, 1.0, 1.0], [1.0, 0.6235294117647059, 0.6039215686274509, 1.0], [1.0, 0.996078431372549, 0.6392156862745098, 1.0], [0.5725490196078431, 0.7764705882352941, 1.0, 1.0], [1.0, 0.6235294117647059, 0.6039215686274509, 1.0], [1.0, 0.996078431372549, 0.6392156862745098, 1.0], [0.5725490196078431, 0.7764705882352941, 1.0, 1.0]], [[0.5725490196078431, 0.7764705882352941, 1.0, 1.0], [1.0, 0.6235294117647059, 0.6039215686274509, 1.0]], [[0.5725490196078431, 0.7764705882352941, 1.0, 1.0], [1.0, 0.6235294117647059, 0.6039215686274509, 1.0], [1.0, 0.996078431372549, 0.6392156862745098, 1.0], [0.5725490196078431, 0.7764705882352941, 1.0, 1.0], [1.0, 0.6235294117647059, 0.6039215686274509, 1.0], [1.0, 0.996078431372549, 0.6392156862745098, 1.0], [0.5725490196078431, 0.7764705882352941, 1.0, 1.0]]]}\n"
     ]
    }
   ],
   "source": [
    "if datas['plot0']['type'] == 'line':\n",
    "    q_colors_lines(datas, qa_pairs, return_qa=False)"
   ]
  },
  {
   "cell_type": "code",
   "execution_count": null,
   "id": "c59f2280-35d0-470d-a00b-b200c31dd0db",
   "metadata": {},
   "outputs": [],
   "source": [
    "# # copilot ans\n",
    "# {\n",
    "#     \"line colors\": [\n",
    "#         [[0, 0, 1, 1], [1, 0, 0, 1]],\n",
    "#         [[0, 0, 1, 1], [1, 0, 0, 1], [1, 1, 0, 1], [0, 1, 1, 1], [1, 0, 1, 1]],\n",
    "#         [[0, 0, 1, 1], [1, 1, 0, 1]],\n",
    "#         [[0, 0, 1, 1], [1, 1, 0, 1]]\n",
    "#     ]\n",
    "# }\n",
    "\n"
   ]
  },
  {
   "cell_type": "code",
   "execution_count": null,
   "id": "e4c1b392-da33-4298-b98f-4fd5297e4581",
   "metadata": {},
   "outputs": [],
   "source": []
  },
  {
   "cell_type": "code",
   "execution_count": 350,
   "id": "e8c2a90a-a87a-4dfe-ad69-1135c541b06a",
   "metadata": {},
   "outputs": [],
   "source": [
    "# if line\n",
    "# what are the colors of each plot?\n",
    "# what are the linestyles of each line? (with/without list)\n",
    "# are there any markers? if so, what are they?\n",
    "# what is the marker size?\n",
    "# what is the line thickness of each line?"
   ]
  },
  {
   "cell_type": "code",
   "execution_count": 351,
   "id": "8709122b-b7ae-4635-b8a5-b962defab175",
   "metadata": {},
   "outputs": [
    {
     "data": {
      "text/plain": [
       "dict_keys(['type', 'distribution', 'data', 'data pixels', 'data from plot', 'xticks', 'yticks', 'square', 'title', 'xlabel', 'ylabel'])"
      ]
     },
     "execution_count": 351,
     "metadata": {},
     "output_type": "execute_result"
    }
   ],
   "source": [
    "datas['plot0'].keys()"
   ]
  },
  {
   "cell_type": "code",
   "execution_count": 374,
   "id": "40d93988-1b1a-46f2-8268-7ac3aeb713fe",
   "metadata": {},
   "outputs": [
    {
     "data": {
      "text/plain": [
       "{'linethick': [1.0175143070963655, 1.2040661062687574, 3.8668760094293844],\n",
       " 'linestyles': [[0, [1, 10]], [0, [3, 5, 1, 5]], [0, [5, 1]]],\n",
       " 'markers': ['', '', ''],\n",
       " 'marker size': [-1, -1, -1],\n",
       " 'colors': [[[0.5725490196078431, 0.7764705882352941, 1.0, 1.0]],\n",
       "  [[1.0, 0.6235294117647059, 0.6039215686274509, 1.0]],\n",
       "  [[1.0, 0.996078431372549, 0.6392156862745098, 1.0]]]}"
      ]
     },
     "execution_count": 374,
     "metadata": {},
     "output_type": "execute_result"
    }
   ],
   "source": [
    "datas['plot0']['data from plot']['plot params']"
   ]
  },
  {
   "cell_type": "code",
   "execution_count": 376,
   "id": "dca60fd7-e092-4ea2-9ab9-173ee2a80114",
   "metadata": {},
   "outputs": [
    {
     "data": {
      "text/plain": [
       "[0.5725490196078431, 0.7764705882352941, 1.0, 1.0]"
      ]
     },
     "execution_count": 376,
     "metadata": {},
     "output_type": "execute_result"
    }
   ],
   "source": [
    "datas['plot0']['data from plot']['plot params']['colors'][0][0]"
   ]
  },
  {
   "cell_type": "code",
   "execution_count": null,
   "id": "fd421d21-7897-45f6-a291-11acba5f50b2",
   "metadata": {},
   "outputs": [],
   "source": []
  },
  {
   "cell_type": "code",
   "execution_count": null,
   "id": "3477e9d6-f415-48e0-b74d-28238e193d01",
   "metadata": {},
   "outputs": [],
   "source": []
  },
  {
   "cell_type": "code",
   "execution_count": 352,
   "id": "a475fd63-dbe3-4bbb-ad4d-eea9aa039493",
   "metadata": {},
   "outputs": [
    {
     "data": {
      "text/plain": [
       "{'line0': {'m': 3.1450908331671643,\n",
       "  'a': -18.000533551756483,\n",
       "  'noise level': 0.25},\n",
       " 'line1': {'m': -2.171587114938508,\n",
       "  'a': 70.32948819103694,\n",
       "  'noise level': 0.25},\n",
       " 'line2': {'m': 0.7768871596783367,\n",
       "  'a': -96.77833346975275,\n",
       "  'noise level': 0.25}}"
      ]
     },
     "execution_count": 352,
     "metadata": {},
     "output_type": "execute_result"
    }
   ],
   "source": [
    "datas['plot0']['data']['data params']"
   ]
  },
  {
   "cell_type": "code",
   "execution_count": 311,
   "id": "c78ec3cc-b98d-4e3f-88db-c0da18a5e806",
   "metadata": {},
   "outputs": [
    {
     "data": {
      "text/plain": [
       "dict_keys(['xs', 'ys'])"
      ]
     },
     "execution_count": 311,
     "metadata": {},
     "output_type": "execute_result"
    }
   ],
   "source": [
    "datas['plot0']['data pixels'].keys()"
   ]
  },
  {
   "cell_type": "code",
   "execution_count": 312,
   "id": "d7e25136-d815-49ce-a330-d5f9951959e4",
   "metadata": {},
   "outputs": [
    {
     "data": {
      "text/plain": [
       "{'xmin': 221.97222222222223,\n",
       " 'ymin': 2319.1562605669887,\n",
       " 'xmax': 3727.3499999999995,\n",
       " 'ymax': 3200.3543956574604}"
      ]
     },
     "execution_count": 312,
     "metadata": {},
     "output_type": "execute_result"
    }
   ],
   "source": [
    "datas['plot0']['square']"
   ]
  },
  {
   "cell_type": "code",
   "execution_count": 313,
   "id": "920a8137-f0cf-4a4a-9d67-bc61013b28ec",
   "metadata": {},
   "outputs": [
    {
     "data": {
      "text/plain": [
       "'linear'"
      ]
     },
     "execution_count": 313,
     "metadata": {},
     "output_type": "execute_result"
    }
   ],
   "source": [
    "datas['plot0']['distribution']"
   ]
  },
  {
   "cell_type": "code",
   "execution_count": 314,
   "id": "cccc4d42-a7e5-48ba-b36f-7dd748ca4835",
   "metadata": {},
   "outputs": [
    {
     "data": {
      "text/plain": [
       "dict_keys(['xs', 'ys', 'data params'])"
      ]
     },
     "execution_count": 314,
     "metadata": {},
     "output_type": "execute_result"
    }
   ],
   "source": [
    "datas['plot0']['data'].keys()"
   ]
  },
  {
   "cell_type": "code",
   "execution_count": 316,
   "id": "afe7c9c3-33ed-433f-928e-7060ce3a1b34",
   "metadata": {},
   "outputs": [
    {
     "data": {
      "text/plain": [
       "{'line0': {'m': 2.1661031039064493,\n",
       "  'a': 82.44696980660811,\n",
       "  'noise level': 0.25}}"
      ]
     },
     "execution_count": 316,
     "metadata": {},
     "output_type": "execute_result"
    }
   ],
   "source": [
    "datas['plot0']['data']['data params']"
   ]
  },
  {
   "cell_type": "code",
   "execution_count": 317,
   "id": "c4776277-4373-4f33-88f0-8cb6a1b6ca7d",
   "metadata": {},
   "outputs": [
    {
     "data": {
      "text/plain": [
       "dict_keys(['xs', 'ys'])"
      ]
     },
     "execution_count": 317,
     "metadata": {},
     "output_type": "execute_result"
    }
   ],
   "source": [
    "datas['plot0']['data pixels'].keys()"
   ]
  },
  {
   "cell_type": "code",
   "execution_count": null,
   "id": "65f7c8d7-2d55-4189-9d37-5f3caa0c78ea",
   "metadata": {},
   "outputs": [],
   "source": []
  }
 ],
 "metadata": {
  "kernelspec": {
   "display_name": "Python 3 (ipykernel)",
   "language": "python",
   "name": "python3"
  },
  "language_info": {
   "codemirror_mode": {
    "name": "ipython",
    "version": 3
   },
   "file_extension": ".py",
   "mimetype": "text/x-python",
   "name": "python",
   "nbconvert_exporter": "python",
   "pygments_lexer": "ipython3",
   "version": "3.10.9"
  }
 },
 "nbformat": 4,
 "nbformat_minor": 5
}
