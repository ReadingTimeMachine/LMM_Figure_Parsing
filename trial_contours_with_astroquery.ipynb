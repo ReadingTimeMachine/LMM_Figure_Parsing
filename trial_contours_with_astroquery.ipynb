{
 "cells": [
  {
   "cell_type": "code",
   "execution_count": 9,
   "id": "e9655bc0-e976-4b55-83f9-71b1b553820c",
   "metadata": {},
   "outputs": [],
   "source": [
    "# where to save images?\n",
    "save_img_dir = '/Users/jnaiman/Downloads/tmp/fake_figs/skyimages/'"
   ]
  },
  {
   "cell_type": "code",
   "execution_count": 140,
   "id": "0cf73a85-8e0d-4913-8e70-787fa8c6f764",
   "metadata": {},
   "outputs": [],
   "source": [
    "from astroquery.skyview import SkyView\n",
    "from mpl_toolkits.axes_grid1 import make_axes_locatable\n",
    "import numpy as np"
   ]
  },
  {
   "cell_type": "code",
   "execution_count": 4,
   "id": "1d49f975-cf3c-42b3-a924-227ca88ba484",
   "metadata": {
    "scrolled": true
   },
   "outputs": [
    {
     "name": "stdout",
     "output_type": "stream",
     "text": [
      "{'Allbands:GOODS/HDF/CDF': ['GOODS: Chandra ACIS HB',\n",
      "                            'GOODS: Chandra ACIS FB',\n",
      "                            'GOODS: Chandra ACIS SB',\n",
      "                            'GOODS: VLT VIMOS U',\n",
      "                            'GOODS: VLT VIMOS R',\n",
      "                            'GOODS: HST ACS B',\n",
      "                            'GOODS: HST ACS V',\n",
      "                            'GOODS: HST ACS I',\n",
      "                            'GOODS: HST ACS Z',\n",
      "                            'Hawaii HDF U',\n",
      "                            'Hawaii HDF B',\n",
      "                            'Hawaii HDF V0201',\n",
      "                            'Hawaii HDF V0401',\n",
      "                            'Hawaii HDF R',\n",
      "                            'Hawaii HDF I',\n",
      "                            'Hawaii HDF z',\n",
      "                            'Hawaii HDF HK',\n",
      "                            'GOODS: HST NICMOS',\n",
      "                            'GOODS: VLT ISAAC J',\n",
      "                            'GOODS: VLT ISAAC H',\n",
      "                            'GOODS: VLT ISAAC Ks',\n",
      "                            'HUDF: VLT ISAAC Ks',\n",
      "                            'GOODS: Spitzer IRAC 3.6',\n",
      "                            'GOODS: Spitzer IRAC 4.5',\n",
      "                            'GOODS: Spitzer IRAC 5.8',\n",
      "                            'GOODS: Spitzer IRAC 8.0',\n",
      "                            'GOODS: Spitzer MIPS 24',\n",
      "                            'GOODS: Herschel 100',\n",
      "                            'GOODS: Herschel 160',\n",
      "                            'GOODS: Herschel 250',\n",
      "                            'GOODS: Herschel 350',\n",
      "                            'GOODS: Herschel 500',\n",
      "                            'CDFS: LESS',\n",
      "                            'GOODS: VLA North'],\n",
      " 'Allbands:HiPS': ['UltraVista-H',\n",
      "                   'UltraVista-J',\n",
      "                   'UltraVista-Ks',\n",
      "                   'UltraVista-NB118',\n",
      "                   'UltraVista-Y',\n",
      "                   'CFHTLS-W-u',\n",
      "                   'CFHTLS-W-g',\n",
      "                   'CFHTLS-W-r',\n",
      "                   'CFHTLS-W-i',\n",
      "                   'CFHTLS-W-z',\n",
      "                   'CFHTLS-D-u',\n",
      "                   'CFHTLS-D-g',\n",
      "                   'CFHTLS-D-r',\n",
      "                   'CFHTLS-D-i',\n",
      "                   'CFHTLS-D-z'],\n",
      " 'GammaRay': ['Fermi 5',\n",
      "              'Fermi 4',\n",
      "              'Fermi 3',\n",
      "              'Fermi 2',\n",
      "              'Fermi 1',\n",
      "              'EGRET (3D)',\n",
      "              'EGRET <100 MeV',\n",
      "              'EGRET >100 MeV',\n",
      "              'COMPTEL'],\n",
      " 'HardX-ray': ['INT GAL 17-35 Flux',\n",
      "               'INT GAL 17-60 Flux',\n",
      "               'INT GAL 35-80 Flux',\n",
      "               'INTEGRAL/SPI GC',\n",
      "               'GRANAT/SIGMA',\n",
      "               'RXTE Allsky 3-8keV Flux',\n",
      "               'RXTE Allsky 3-20keV Flux',\n",
      "               'RXTE Allsky 8-20keV Flux'],\n",
      " 'IR:2MASS class=': ['2MASS-J', '2MASS-H', '2MASS-K'],\n",
      " 'IR:AKARI class=': ['AKARI N60', 'AKARI WIDE-S', 'AKARI WIDE-L', 'AKARI N160'],\n",
      " 'IR:IRAS': ['IRIS  12',\n",
      "             'IRIS  25',\n",
      "             'IRIS  60',\n",
      "             'IRIS 100',\n",
      "             'SFD100m',\n",
      "             'SFD Dust Map',\n",
      "             'IRAS  12 micron',\n",
      "             'IRAS  25 micron',\n",
      "             'IRAS  60 micron',\n",
      "             'IRAS 100 micron'],\n",
      " 'IR:Planck': ['Planck 857 I',\n",
      "               'Planck 545 I',\n",
      "               'Planck 353 I',\n",
      "               'Planck 353 Q',\n",
      "               'Planck 353 U',\n",
      "               'Planck 353 PI',\n",
      "               'Planck 353 PA',\n",
      "               'Planck 353 PI/I',\n",
      "               'Planck 217 I',\n",
      "               'Planck 217 Q',\n",
      "               'Planck 217 U',\n",
      "               'Planck 217 PI',\n",
      "               'Planck 217 PA',\n",
      "               'Planck 217 PI/I',\n",
      "               'Planck 143 I',\n",
      "               'Planck 143 Q',\n",
      "               'Planck 143 U',\n",
      "               'Planck 143 PI',\n",
      "               'Planck 143 PA',\n",
      "               'Planck 143 PI/I',\n",
      "               'Planck 100 I',\n",
      "               'Planck 100 Q',\n",
      "               'Planck 100 U',\n",
      "               'Planck 100 PI',\n",
      "               'Planck 100 PA',\n",
      "               'Planck 100 PI/I',\n",
      "               'Planck 070 I',\n",
      "               'Planck 070 Q',\n",
      "               'Planck 070 U',\n",
      "               'Planck 070 PI',\n",
      "               'Planck 070 PA',\n",
      "               'Planck 070 PI/I',\n",
      "               'Planck 044 I',\n",
      "               'Planck 044 Q',\n",
      "               'Planck 044 U',\n",
      "               'Planck 044 PI',\n",
      "               'Planck 044 PA',\n",
      "               'Planck 044 PI/I',\n",
      "               'Planck 030 I',\n",
      "               'Planck 030 Q',\n",
      "               'Planck 030 U',\n",
      "               'Planck 030 PI',\n",
      "               'Planck 030 PA',\n",
      "               'Planck 030 PI/I'],\n",
      " 'IR:UKIDSS class=': ['UKIDSS-Y',\n",
      "                      'UKIDSS-J',\n",
      "                      'UKIDSS-H',\n",
      "                      'UKIDSS-K',\n",
      "                      'UKIDSS-1-0S1'],\n",
      " 'IR:WISE class=': ['WISE 3.4', 'WISE 4.6', 'WISE 12', 'WISE 22'],\n",
      " 'IR:WMAP&COBE': ['WMAP ILC',\n",
      "                  'WMAP Ka',\n",
      "                  'WMAP K',\n",
      "                  'WMAP Q',\n",
      "                  'WMAP V',\n",
      "                  'WMAP W',\n",
      "                  'COBE DIRBE/AAM',\n",
      "                  'COBE DIRBE/ZSMA'],\n",
      " 'Optical:DSS class=': ['DSS',\n",
      "                        'DSS1 Blue',\n",
      "                        'DSS1 Red',\n",
      "                        'DSS2 Red',\n",
      "                        'DSS2 Blue',\n",
      "                        'DSS2 IR'],\n",
      " 'Optical:SDSS': ['SDSSg',\n",
      "                  'SDSSi',\n",
      "                  'SDSSr',\n",
      "                  'SDSSu',\n",
      "                  'SDSSz',\n",
      "                  'SDSSdr7g',\n",
      "                  'SDSSdr7i',\n",
      "                  'SDSSdr7r',\n",
      "                  'SDSSdr7u',\n",
      "                  'SDSSdr7z'],\n",
      " 'OtherOptical': ['TESS',\n",
      "                  'Mellinger Red',\n",
      "                  'Mellinger Green',\n",
      "                  'Mellinger Blue',\n",
      "                  'H-Alpha Comp',\n",
      "                  'SHASSA H',\n",
      "                  'SHASSA CC',\n",
      "                  'SHASSA C',\n",
      "                  'SHASSA Sm'],\n",
      " 'ROSATDiffuse class=': ['RASS Background 1',\n",
      "                         'RASS Background 2',\n",
      "                         'RASS Background 3',\n",
      "                         'RASS Background 4',\n",
      "                         'RASS Background 5',\n",
      "                         'RASS Background 6',\n",
      "                         'RASS Background 7'],\n",
      " 'ROSATw/sources class=': ['RASS-Cnt Soft',\n",
      "                           'RASS-Cnt Hard',\n",
      "                           'RASS-Cnt Broad',\n",
      "                           'PSPC 2.0 Deg-Int',\n",
      "                           'PSPC 1.0 Deg-Int',\n",
      "                           'PSPC 0.6 Deg-Int',\n",
      "                           'HRI'],\n",
      " 'Radio:GHz': ['CO',\n",
      "               'GB6 (4850MHz)',\n",
      "               'VLA FIRST (1.4 GHz)',\n",
      "               'NVSS',\n",
      "               'Stripe82VLA',\n",
      "               '1420MHz (Bonn)',\n",
      "               'HI4PI',\n",
      "               'EBHIS',\n",
      "               'nH'],\n",
      " 'Radio:GLEAM class=': ['GLEAM 72-103 MHz',\n",
      "                        'GLEAM 103-134 MHz',\n",
      "                        'GLEAM 139-170 MHz',\n",
      "                        'GLEAM 170-231 MHz'],\n",
      " 'Radio:MHz class=': ['SUMSS 843 MHz',\n",
      "                      '0408MHz',\n",
      "                      'WENSS',\n",
      "                      'TGSS ADR1',\n",
      "                      'VLSSr',\n",
      "                      '0035MHz',\n",
      "                      '0022MHz'],\n",
      " 'SoftX-ray class=': ['SwiftXRTCnt',\n",
      "                      'SwiftXRTExp',\n",
      "                      'SwiftXRTInt',\n",
      "                      'HEAO 1 A-2'],\n",
      " 'SwiftUVOT class=': ['UVOT WHITE Intensity',\n",
      "                      'UVOT V Intensity',\n",
      "                      'UVOT B Intensity',\n",
      "                      'UVOT U Intensity',\n",
      "                      'UVOT UVW1 Intensity',\n",
      "                      'UVOT UVM2 Intensity',\n",
      "                      'UVOT UVW2 Intensity'],\n",
      " 'UV': ['GALEX Near UV',\n",
      "        'GALEX Far UV',\n",
      "        'ROSAT WFC F1',\n",
      "        'ROSAT WFC F2',\n",
      "        'EUVE 83 A',\n",
      "        'EUVE 171 A',\n",
      "        'EUVE 405 A',\n",
      "        'EUVE 555 A'],\n",
      " 'X-ray:SwiftBAT': ['BAT SNR 14-195',\n",
      "                    'BAT SNR 14-20',\n",
      "                    'BAT SNR 20-24',\n",
      "                    'BAT SNR 24-35',\n",
      "                    'BAT SNR 35-50',\n",
      "                    'BAT SNR 50-75',\n",
      "                    'BAT SNR 75-100',\n",
      "                    'BAT SNR 100-150',\n",
      "                    'BAT SNR 150-195']}\n"
     ]
    }
   ],
   "source": [
    "SkyView.list_surveys()"
   ]
  },
  {
   "cell_type": "markdown",
   "id": "81b0aab3-595b-4b40-99df-2a3f34bdc2d8",
   "metadata": {},
   "source": [
    "Sky queries:\n",
    "\n",
    "* position : str\n",
    "Determines the center of the field to be retrieved. Both\n",
    "    coordinates (also equatorial ones) and object names are\n",
    "    supported. Object names are converted to coordinates via the\n",
    "    SIMBAD or NED name resolver. See the reference for more info\n",
    "    on the supported syntax for coordinates.\n",
    "  \n",
    "* survey : str or list of str\n",
    "  Select data from one or more surveys. The number of surveys\n",
    "    determines the number of resulting file downloads. Passing a\n",
    "    list with just one string has the same effect as passing this\n",
    "    string directly.\n",
    "  \n",
    "* coordinates : str\n",
    "    Choose among common equatorial, galactic and ecliptic\n",
    "    coordinate systems (``\"J2000\"``, ``\"B1950\"``, ``\"Galactic\"``,\n",
    "    ``\"E2000\"``, ``\"ICRS\"``) or pass a custom string.\n",
    "\n",
    "* projection : str\n",
    "    Choose among the map projections (the value in parentheses\n",
    "    denotes the string to be passed):\n",
    "\n",
    "    * Gnomonic (Tan), default value\n",
    "        good for small regions\n",
    "    * Rectangular (Car)\n",
    "        simplest projection\n",
    "    * Aitoff (Ait)\n",
    "        Hammer-Aitoff, equal area projection good for all sky maps\n",
    "    * Orthographic (Sin)\n",
    "        Projection often used in interferometry\n",
    "    * Zenith Equal Area (Zea)\n",
    "        equal area, azimuthal projection\n",
    "    * COBE Spherical Cube (Csc)\n",
    "        Used in COBE data\n",
    "    * Arc (Arc)\n",
    "        Similar to Zea but not equal-area\n",
    "      \n",
    "* pixels : str\n",
    "    Selects the pixel dimensions of the image to be produced. A\n",
    "    scalar value or a pair of values separated by comma may be\n",
    "    given. If the value is a scalar the number of width and height\n",
    "    of the image will be the same. By default a 300x300 image is\n",
    "    produced.\n",
    "  \n",
    "* scaling : str\n",
    "    Selects the transformation between pixel intensity and\n",
    "    intensity on the displayed image. The supported values are:\n",
    "    ``\"Log\"``, ``\"Sqrt\"``, ``\"Linear\"``, ``\"HistEq\"``,\n",
    "    ``\"LogLog\"``.\n",
    "  \n",
    "* sampler : str\n",
    "    The sampling algorithm determines how the data requested will\n",
    "    be resampled so that it can be displayed.\n",
    "  \n",
    "* resolver : str\n",
    "    The name resolver allows to choose a name resolver to use when\n",
    "    looking up a name which was passed in the ``position`` parameter\n",
    "    (as opposed to a numeric coordinate value). The default choice\n",
    "    is to call the SIMBAD name resolver first and then the NED\n",
    "    name resolver if the SIMBAD search fails.\n",
    "\n",
    "* lut : str\n",
    "    Choose from the color table selections to display the data in\n",
    "    false color.\n",
    "  \n",
    "* grid : bool\n",
    "    overlay a coordinate grid on the image if True\n",
    "  \n",
    "* gridlabels : bool\n",
    "    annotate the grid with coordinates positions if True\n",
    "  \n",
    "* radius : `~astropy.units.Quantity` or None\n",
    "    The angular radius of the specified field.\n",
    "    Overrides the ``width`` and ``height`` parameters.\n",
    "    \n",
    "* width : `~astropy.units.Quantity` or None\n",
    "    The width of the specified field.  Must be specified\n",
    "    with ``height``.\n",
    "  \n",
    "* height : `~astropy.units.Quantity` or None\n",
    "    The height of the specified field.  Must be specified\n",
    "    with ``width``."
   ]
  },
  {
   "cell_type": "code",
   "execution_count": 84,
   "id": "8e2f2b87-493c-4492-a8e6-149fdfc22910",
   "metadata": {},
   "outputs": [],
   "source": [
    "#img_list2 = SkyView.get_images(position='SN 2011FE', survey='SwiftXRTCnt', pixels=140)\n",
    "img_list2 = SkyView.get_images(position='SN 2011FE', survey='SwiftXRTInt', pixels=140)"
   ]
  },
  {
   "cell_type": "code",
   "execution_count": 86,
   "id": "d863cc7b-2fff-40d1-8d14-7d595001b677",
   "metadata": {},
   "outputs": [],
   "source": [
    "icount = 1\n",
    "\n",
    "for iimg, img in enumerate(img_list2):\n",
    "    img.writeto(save_img_dir + 'image_' + str(iimg+icount).zfill(4) + '.fits')"
   ]
  },
  {
   "cell_type": "markdown",
   "id": "5208a7cd-6627-428d-82d6-7143b04f3e7c",
   "metadata": {},
   "source": [
    "Now, try plotting:"
   ]
  },
  {
   "cell_type": "code",
   "execution_count": 12,
   "id": "3b5573bb-3e08-462f-9c55-fb2fed1455bb",
   "metadata": {},
   "outputs": [],
   "source": [
    "# following: https://learn.astropy.org/tutorials/celestial_coords1.html\n",
    "\n",
    "from astropy.wcs import WCS\n",
    "from astropy.io import fits\n",
    "import matplotlib.pyplot as plt"
   ]
  },
  {
   "cell_type": "code",
   "execution_count": 87,
   "id": "2ed54471-01f5-4204-9503-ce8a78938b93",
   "metadata": {},
   "outputs": [],
   "source": [
    "header_data_unit_list = fits.open(save_img_dir + 'image_'+str(icount).zfill(4) + '.fits')"
   ]
  },
  {
   "cell_type": "code",
   "execution_count": 88,
   "id": "c4b634e1-b357-4234-8fbe-3eb226c0cf4c",
   "metadata": {},
   "outputs": [
    {
     "name": "stdout",
     "output_type": "stream",
     "text": [
      "Filename: /Users/jnaiman/Downloads/tmp/fake_figs/skyimages/image_0001.fits\n",
      "No.    Name      Ver    Type      Cards   Dimensions   Format\n",
      "  0  PRIMARY       1 PrimaryHDU     112   (140, 140)   float32   \n"
     ]
    }
   ],
   "source": [
    "header_data_unit_list.info()"
   ]
  },
  {
   "cell_type": "code",
   "execution_count": 89,
   "id": "dc67ea57-b2a3-4d01-9135-b9bbd5f5444b",
   "metadata": {},
   "outputs": [],
   "source": [
    "image = header_data_unit_list[0].data\n",
    "header = header_data_unit_list[0].header"
   ]
  },
  {
   "cell_type": "code",
   "execution_count": 90,
   "id": "d9037497-83e8-43e8-a2c6-4c44865782b7",
   "metadata": {
    "scrolled": true
   },
   "outputs": [
    {
     "data": {
      "text/plain": [
       "SIMPLE  =                    T / Written by SkyView Fri Jun 07 09:55:16 EDT 2024\n",
       "BITPIX  =                  -32 / 4 byte floating point                          \n",
       "NAXIS   =                    2 / Two dimensional image                          \n",
       "NAXIS1  =                  140 / Width of image                                 \n",
       "NAXIS2  =                  140 / Height of image                                \n",
       "CRVAL1  =              210.774 / Reference longitude                            \n",
       "CRVAL2  =              54.2737 / Reference latitude                             \n",
       "RADESYS = 'FK5     '           / Coordinate system                              \n",
       "EQUINOX =               2000.0 / Epoch of the equinox                           \n",
       "CTYPE1  = 'RA---TAN'           / Coordinates -- projection                      \n",
       "CTYPE2  = 'DEC--TAN'           / Coordinates -- projection                      \n",
       "CRPIX1  =                 70.5 / X reference pixel                              \n",
       "CRPIX2  =                 70.5 / Y reference pixel                              \n",
       "CDELT1  =               -0.001 / X scale                                        \n",
       "CDELT2  =                0.001 / Y scale                                        \n",
       "COMMENT                                                                         \n",
       "COMMENT SkyView Survey metadata                                                 \n",
       "COMMENT                                                                         \n",
       "COMMENT Provenance:  Data generated from public images at HEASARC archive       \n",
       "COMMENT Copyright:   Public Domain                                              \n",
       "COMMENT Regime:      X-ray                                                      \n",
       "COMMENT NSurvey:     3                                                          \n",
       "COMMENT Frequency:   360 PHz (1.5 keV)                                          \n",
       "COMMENT Bandpass:    48 PHz - 2,400 PHz  (0.2-10 keV)                           \n",
       "COMMENT Coverage:    Patches over ~6% of the sky                                \n",
       "COMMENT PixelScale:  1.6\" (Highest resolution/Hierarchical)                     \n",
       "COMMENT Resolution:  18\"  (HPD)                                                 \n",
       "COMMENT Coordinates: Equatorial                                                 \n",
       "COMMENT Projection:  HEALPix/HIPS                                               \n",
       "COMMENT Epoch:       January 2005 to May 2017                                   \n",
       "COMMENT Reference:   The XRT website or  Burrows et al 2005, instrument refere  \n",
       "COMMENT          nce                                                            \n",
       "COMMENT                                                                         \n",
       "COMMENT Survey specific cards                                                   \n",
       "COMMENT                                                                         \n",
       "SURVEY  = 'Swift XRT Intensity'                                                 \n",
       "HISTORY Survey mosaic generated June-July 2017.                                 \n",
       "HISTORY                                                                         \n",
       "HISTORY Settings used in processing:                                            \n",
       "HISTORY                                                                         \n",
       "HISTORY cache = /data/cache/surveys/                                            \n",
       "HISTORY catalogids = on                                                         \n",
       "HISTORY coordinates = J2000.0                                                   \n",
       "HISTORY descriptionxslt = cgifiles/description.xsl                              \n",
       "HISTORY dft_cache = ./skycache/                                                 \n",
       "HISTORY dummy                                                                   \n",
       "HISTORY equinox = 2000                                                          \n",
       "HISTORY finalpostprocessor = skyview.ij.IJProcessor,skyview.data.BoxSmoother,sky\n",
       "HISTORY float = on                                                              \n",
       "HISTORY footertemplate = cgifiles/skyfooter.html                                \n",
       "HISTORY gallerydir = /userimages                                                \n",
       "HISTORY galleryxslt = cgifiles/gallerymultipage.xsl                             \n",
       "HISTORY gridlabels = 0                                                          \n",
       "HISTORY headertemplate = cgifiles/skyheader.html                                \n",
       "HISTORY hipsdir = https://skyview.gsfc.nasa.gov/surveys/xrt/int/all2            \n",
       "HISTORY htmlwriter = skyview.request.HTMLWriter                                 \n",
       "HISTORY imagefactory = skyview.survey.HipsImageFactory                          \n",
       "HISTORY imagesize = 180                                                         \n",
       "HISTORY localurl = https://skyview.gsfc.nasa.gov/surveys,/skyview/htdocs/surveys\n",
       "HISTORY lut = colortables/b-w-linear.bin                                        \n",
       "HISTORY lutcbarpath = ../images/colorbars/                                      \n",
       "HISTORY mosaicker = skyview.process.Mosaicker                                   \n",
       "HISTORY name = Swift XRT Combined Intensity Images                              \n",
       "HISTORY noexit =                                                                \n",
       "HISTORY nullimagedir = ../images/nodata                                         \n",
       "HISTORY output = ../../tempspace/fits/skv18487244559652                         \n",
       "HISTORY outputroot = ../../tempspace/fits                                       \n",
       "HISTORY pixels = 140                                                            \n",
       "HISTORY position = 210.774 54.2737                                              \n",
       "HISTORY postprocessor = skyview.ij.IJProcessor,skyview.request.HTMLWriter       \n",
       "HISTORY projection = Tan                                                        \n",
       "HISTORY quicklook = jpeg                                                        \n",
       "HISTORY reqxpos = 210.774                                                       \n",
       "HISTORY reqypos = 54.2737                                                       \n",
       "HISTORY resolver = SIMBAD-NED                                                   \n",
       "HISTORY rgbtemplate = cgifiles/skyrgb.html                                      \n",
       "HISTORY rgbwriter = skyview.request.RGBWriter                                   \n",
       "HISTORY sampler = Default                                                       \n",
       "HISTORY savebysurvey                                                            \n",
       "HISTORY scale = 0.001                                                           \n",
       "HISTORY scaling = Log Sqrt Linear HistEq LogLog                                 \n",
       "HISTORY settingsupdaters = BatchCompatibility,SettingsFixer,skyview.request.Toas\n",
       "HISTORY shortname = XRTInt, Swift XRT Intensity, SwiftXRTInt                    \n",
       "HISTORY sia_header = ./sia.header                                               \n",
       "HISTORY siabase = https://skyview.gsfc.nasa.gov/cgi-bin/images?                 \n",
       "HISTORY siaimagetimeout = 300000                                                \n",
       "HISTORY size = 0.14,0.14                                                        \n",
       "HISTORY survey = SwiftXRTInt                                                    \n",
       "HISTORY surveyfinder = skyview.survey.XMLSurveyFinder                           \n",
       "HISTORY surveymanifest = surveys/survey.manifest                                \n",
       "HISTORY surveyregimes = Radio,Millimeter,Infrared,Optical,Ultraviolet,X-ray,Gamm\n",
       "HISTORY surveysheader = cgifiles/survey.header                                  \n",
       "HISTORY surveytemplate = cgifiles/skysurvey.html                                \n",
       "HISTORY url.heasarcbase = https://heasarc.gsfc.nasa.gov/xamin/vo/cone?showoffset\n",
       "HISTORY url.ned = http://nedwww.ipac.caltech.edu/cgi-bin/nph-NEDobjsearch?search\n",
       "HISTORY url.simbad = http://simbad.u-strasbg.fr/simbad-conesearch.pl?           \n",
       "HISTORY url.vizierbase = http://vizier.u-strasbg.fr/viz-bin/votable/-dtd/-A?-out\n",
       "HISTORY urllocalhelp = https://skyview.gsfc.nasa.gov/help/help.html             \n",
       "HISTORY version = 3.5.7                                                         \n",
       "HISTORY webrootpath = /skyview/htdocs                                           \n",
       "HISTORY xmlurlprefix = https://skyview.gsfc.nasa.gov/current/jar/               \n",
       "HISTORY                                                                         \n",
       "HISTORY Map generated at: Fri Jun 07 09:55:16 EDT 2024                          \n",
       "HISTORY                                                                         \n",
       "HISTORY Resampler used: NNSampler                                               \n",
       "HISTORY                                                                         \n",
       "HISTORY                                                                         \n",
       "HISTORY Image mosaicking usingskyview.process.Mosaicker                         \n",
       "HISTORY                                                                         \n",
       "HISTORY  Used image:/skyview/htdocs/surveys/xrt/int/all2/Norder7                \n",
       "HISTORY       Pixels:19600                                                      \n",
       "HISTORY                                                                         "
      ]
     },
     "execution_count": 90,
     "metadata": {},
     "output_type": "execute_result"
    }
   ],
   "source": [
    "header"
   ]
  },
  {
   "cell_type": "code",
   "execution_count": 92,
   "id": "811913ec-34bd-4b21-97fc-842feb490d4a",
   "metadata": {},
   "outputs": [],
   "source": [
    "#header['bunit']"
   ]
  },
  {
   "cell_type": "code",
   "execution_count": null,
   "id": "f456f9f1-9787-461c-acfd-72166fca9cc6",
   "metadata": {},
   "outputs": [],
   "source": []
  },
  {
   "cell_type": "code",
   "execution_count": 93,
   "id": "64ed2e37-403f-45ce-a3a1-e7b40ea5d2b1",
   "metadata": {},
   "outputs": [],
   "source": [
    "wcs_helix = WCS(header)"
   ]
  },
  {
   "cell_type": "code",
   "execution_count": 94,
   "id": "75926072-ab30-458e-bc5d-278439bbedc8",
   "metadata": {},
   "outputs": [
    {
     "data": {
      "text/plain": [
       "WCS Keywords\n",
       "\n",
       "Number of WCS axes: 2\n",
       "CTYPE : 'RA---TAN' 'DEC--TAN' \n",
       "CRVAL : 210.774 54.2737 \n",
       "CRPIX : 70.5 70.5 \n",
       "PC1_1 PC1_2  : 1.0 0.0 \n",
       "PC2_1 PC2_2  : 0.0 1.0 \n",
       "CDELT : -0.001 0.001 \n",
       "NAXIS : 140  140"
      ]
     },
     "execution_count": 94,
     "metadata": {},
     "output_type": "execute_result"
    }
   ],
   "source": [
    "wcs_helix"
   ]
  },
  {
   "cell_type": "code",
   "execution_count": 95,
   "id": "5ea48fb8-4419-4214-a854-ebf393c4be0a",
   "metadata": {},
   "outputs": [
    {
     "data": {
      "text/plain": [
       "<matplotlib.image.AxesImage at 0x30b26c820>"
      ]
     },
     "execution_count": 95,
     "metadata": {},
     "output_type": "execute_result"
    },
    {
     "data": {
      "image/png": "[encoded data removed]",
      "text/plain": [
       "<Figure size 1000x1000 with 1 Axes>"
      ]
     },
     "metadata": {},
     "output_type": "display_data"
    }
   ],
   "source": [
    "fig = plt.figure(figsize=(10, 10))\n",
    "plt.imshow(image, origin='lower', cmap='cividis')"
   ]
  },
  {
   "cell_type": "code",
   "execution_count": 96,
   "id": "08b5605b-2b00-45ea-91c0-2c8c9af2b89d",
   "metadata": {},
   "outputs": [
    {
     "data": {
      "image/png": "[encoded data removed]",
      "text/plain": [
       "<Figure size 1000x1000 with 1 Axes>"
      ]
     },
     "metadata": {},
     "output_type": "display_data"
    }
   ],
   "source": [
    "fig = plt.figure(figsize=(10, 10))\n",
    "ax = plt.subplot(projection=wcs_helix)\n",
    "plt.imshow(image, origin='lower', cmap='cividis', aspect='equal')\n",
    "plt.xlabel(r'RA')\n",
    "plt.ylabel(r'Dec')\n",
    "\n",
    "overlay = ax.get_coords_overlay('icrs')\n",
    "overlay.grid(color='white', ls='dotted')"
   ]
  },
  {
   "cell_type": "code",
   "execution_count": null,
   "id": "ef692876-23c1-4d2a-8864-08e277bd3356",
   "metadata": {},
   "outputs": [],
   "source": [
    "# wcs = WCS(hdu.header)\n",
    "# fig = plt.figure(figsize=(16,12))\n",
    "# fig.add_subplot(121, projection=wcs)\n",
    "# plt.imshow(convolved_image_q, cmap='seismic', vmin=-0.5, vmax=0.5, origin='lower')#, cmap=plt.cm.viridis)\n",
    "# plt.xlabel('RA')\n",
    "# plt.ylabel('Dec')\n",
    "# plt.colorbar()\n",
    "\n",
    "# fig.add_subplot(122, projection=wcs)\n",
    "# plt.imshow(convolved_image_u, cmap='seismic', vmin=-0.5, vmax=0.5, origin='lower')#, cmap=plt.cm.viridis)\n",
    "\n",
    "# plt.xlabel('RA')\n",
    "# plt.ylabel('Dec')\n",
    "# plt.colorbar()"
   ]
  },
  {
   "cell_type": "code",
   "execution_count": 99,
   "id": "e42d9805-fb4a-4ce4-99c3-0a8b973afc88",
   "metadata": {},
   "outputs": [],
   "source": [
    "import matplotlib.axes as maxes"
   ]
  },
  {
   "cell_type": "code",
   "execution_count": 101,
   "id": "f48bb155-acc2-4a56-8675-c29c06851dbf",
   "metadata": {},
   "outputs": [
    {
     "name": "stdout",
     "output_type": "stream",
     "text": [
      "hi\n"
     ]
    },
    {
     "data": {
      "image/png": "[encoded data removed]",
      "text/plain": [
       "<Figure size 1000x1000 with 2 Axes>"
      ]
     },
     "metadata": {},
     "output_type": "display_data"
    }
   ],
   "source": [
    "side = 'right'\n",
    "size = 0.1\n",
    "pad = 0.1\n",
    "#orientation = 'horizontal'\n",
    "orientation = 'vertical'\n",
    "\n",
    "\n",
    "\n",
    "fig = plt.figure(figsize=(10, 10))\n",
    "\n",
    "ax = plt.subplot(projection=wcs_helix)\n",
    "\n",
    "ishow = ax.imshow(image, origin='lower', cmap='cividis', aspect='equal')\n",
    "ax.set_xlabel(r'RA')\n",
    "ax.set_ylabel(r'DEC')\n",
    "\n",
    "\n",
    "#side = np.random.choice(choices, p=probs)\n",
    "# size = np.random.uniform(low=plot_params['color bar']['size percent']['min'], \n",
    "#              high=plot_params['color bar']['size percent']['max'])\n",
    "size = str(int(round(size*100)))+'%'\n",
    "\n",
    "# pad = np.random.uniform(low=plot_params['color bar']['pad']['min'], \n",
    "#                          high=plot_params['color bar']['pad']['max'])\n",
    "\n",
    "divider = make_axes_locatable(ax)\n",
    "\n",
    "cax = divider.append_axes(side, size=size, pad=pad, axes_class=maxes.Axes)\n",
    "# the side of the axis\n",
    "if side == 'right': # this maybe should become a random selection?\n",
    "    axis_side = 'right'\n",
    "    print('hi')\n",
    "    cax.yaxis.set_ticks_position(axis_side)\n",
    "    #cax.axes.get_xaxis().set_visible(False)\n",
    "    #cax.xaxis.set_ticks([])\n",
    "    #cax.xaxis.set_visible(False)\n",
    "elif side == 'left':\n",
    "    axis_side = 'left'\n",
    "    cax.yaxis.set_ticks_position(axis_side)\n",
    "elif side == 'top':\n",
    "    axis_side = 'top'\n",
    "    cax.xaxis.set_ticks_position(axis_side)\n",
    "elif side == 'bottom':\n",
    "    axis_side = 'bottom'\n",
    "    cax.xaxis.set_ticks_position(axis_side)\n",
    "\n",
    "\n",
    "# cbar = fig.colorbar(data_from_plot['data'], \n",
    "#              cax=data_from_plot['color bar'], \n",
    "#              orientation=orientation)\n",
    "\n",
    "cbar = fig.colorbar(ishow, \n",
    "             cax=cax, \n",
    "             orientation=orientation)\n",
    "\n",
    "#plt.draw()\n",
    "\n",
    "#cbar.xaxis.set_xticks([])\n",
    "cbar.ax.xaxis.set_ticks([])\n",
    "\n",
    "plt.show()"
   ]
  },
  {
   "cell_type": "code",
   "execution_count": null,
   "id": "69f4ae1b-ca24-498c-a262-eab6ad462ff5",
   "metadata": {},
   "outputs": [],
   "source": []
  },
  {
   "cell_type": "code",
   "execution_count": 102,
   "id": "93d7bf18-6bdd-48e4-9603-19c302b96116",
   "metadata": {},
   "outputs": [],
   "source": [
    "# #plt.figure()\n",
    "# fig = plt.figure(figsize=(10, 10))\n",
    "\n",
    "# ax = plt.subplot(projection=wcs_helix)\n",
    "\n",
    "# ishow = ax.imshow(image, cmap='gray')\n",
    "\n",
    "# fig.colorbar(ishow)\n",
    "\n",
    "# plt.show()"
   ]
  },
  {
   "cell_type": "code",
   "execution_count": 103,
   "id": "0c84b0bc-970d-47ea-b942-b42f0ed58c4c",
   "metadata": {},
   "outputs": [],
   "source": [
    "#SkyView.get_images?"
   ]
  },
  {
   "cell_type": "code",
   "execution_count": 104,
   "id": "5291b815-6a5b-4c8a-8428-341275bced9d",
   "metadata": {},
   "outputs": [],
   "source": [
    "from astroquery.simbad import Simbad"
   ]
  },
  {
   "cell_type": "code",
   "execution_count": 107,
   "id": "eec5f6c7-6464-42dd-9fc0-4db6eed990ab",
   "metadata": {},
   "outputs": [],
   "source": [
    "#Simbad.list_tables()\n",
    "# pdf lists\n",
    "pdfs_dir = '/Users/jnaiman/Dropbox/wwt_image_extraction/ADSDownloads/pdfs/'\n",
    "\n",
    "from glob import glob"
   ]
  },
  {
   "cell_type": "code",
   "execution_count": 113,
   "id": "9a7af622-ee58-4078-b9cb-8e29cd3c3c33",
   "metadata": {},
   "outputs": [],
   "source": [
    "pdfs = glob(pdfs_dir + '*pdf')\n",
    "\n",
    "# into names\n",
    "paper_names = []\n",
    "for p in pdfs:\n",
    "    paper_names.append(p.split('/')[-1].split('.pdf')[0].replace('_','.'))"
   ]
  },
  {
   "cell_type": "code",
   "execution_count": 114,
   "id": "4ef41e44-77d4-4d10-912d-e0814f4c67f2",
   "metadata": {},
   "outputs": [
    {
     "data": {
      "text/plain": [
       "['1993ApJ...416L..71W',\n",
       " '1940ApJ....91..528S',\n",
       " '1972AJ.....77..459K',\n",
       " '1996ApJS..107..143T',\n",
       " '1985AJ.....90..473O']"
      ]
     },
     "execution_count": 114,
     "metadata": {},
     "output_type": "execute_result"
    }
   ],
   "source": [
    "paper_names[:5]"
   ]
  },
  {
   "cell_type": "code",
   "execution_count": 124,
   "id": "8576e2c0-ff29-4469-be75-a24005c53792",
   "metadata": {},
   "outputs": [
    {
     "name": "stderr",
     "output_type": "stream",
     "text": [
      "WARNING: BlankResponseWarning: Warning: The script line number 3 raised an error (recorded in the `errors` attribute of the result table): '1993ApJ...416L..71W': Bibliographical reference not found in the database : 1993ApJ...416L..71W [astroquery.simbad.core]\n",
      "WARNING: BlankResponseWarning: Warning: The script line number 3 raised an error (recorded in the `errors` attribute of the result table): '1940ApJ....91..528S': Bibliographical reference not found in the database : 1940ApJ....91..528S [astroquery.simbad.core]\n",
      "WARNING: BlankResponseWarning: Warning: The script line number 3 raised an error (recorded in the `errors` attribute of the result table): '1972AJ.....77..459K': Bibliographical reference not found in the database : 1972AJ.....77..459K [astroquery.simbad.core]\n"
     ]
    },
    {
     "name": "stdout",
     "output_type": "stream",
     "text": [
      "1996ApJS..107..143T\n"
     ]
    },
    {
     "name": "stderr",
     "output_type": "stream",
     "text": [
      "WARNING: W19: ?:?:?: W19: TAP Capabilities must not have an ivo-id other than ivo://ivoa.net/std/TAP [pyvo.io.vosi.tapregext]\n"
     ]
    },
    {
     "name": "stdout",
     "output_type": "stream",
     "text": [
      "1985AJ.....90..473O\n"
     ]
    },
    {
     "name": "stderr",
     "output_type": "stream",
     "text": [
      "WARNING: W19: ?:?:?: W19: TAP Capabilities must not have an ivo-id other than ivo://ivoa.net/std/TAP [pyvo.io.vosi.tapregext]\n"
     ]
    },
    {
     "name": "stdout",
     "output_type": "stream",
     "text": [
      "1968AJ.....73..590D\n"
     ]
    },
    {
     "name": "stderr",
     "output_type": "stream",
     "text": [
      "WARNING: W19: ?:?:?: W19: TAP Capabilities must not have an ivo-id other than ivo://ivoa.net/std/TAP [pyvo.io.vosi.tapregext]\n"
     ]
    },
    {
     "name": "stdout",
     "output_type": "stream",
     "text": [
      "1987AJ.....93.1454A\n"
     ]
    },
    {
     "name": "stderr",
     "output_type": "stream",
     "text": [
      "WARNING: W19: ?:?:?: W19: TAP Capabilities must not have an ivo-id other than ivo://ivoa.net/std/TAP [pyvo.io.vosi.tapregext]\n"
     ]
    },
    {
     "name": "stdout",
     "output_type": "stream",
     "text": [
      "1976ApJ...209..882Y\n"
     ]
    },
    {
     "name": "stderr",
     "output_type": "stream",
     "text": [
      "WARNING: W19: ?:?:?: W19: TAP Capabilities must not have an ivo-id other than ivo://ivoa.net/std/TAP [pyvo.io.vosi.tapregext]\n"
     ]
    },
    {
     "name": "stdout",
     "output_type": "stream",
     "text": [
      "1991ApJ...379..621H\n"
     ]
    },
    {
     "name": "stderr",
     "output_type": "stream",
     "text": [
      "WARNING: W19: ?:?:?: W19: TAP Capabilities must not have an ivo-id other than ivo://ivoa.net/std/TAP [pyvo.io.vosi.tapregext]\n"
     ]
    },
    {
     "name": "stdout",
     "output_type": "stream",
     "text": [
      "1979AJ.....84.1763B\n"
     ]
    },
    {
     "name": "stderr",
     "output_type": "stream",
     "text": [
      "WARNING: W19: ?:?:?: W19: TAP Capabilities must not have an ivo-id other than ivo://ivoa.net/std/TAP [pyvo.io.vosi.tapregext]\n"
     ]
    },
    {
     "name": "stdout",
     "output_type": "stream",
     "text": [
      "1989AJ.....97.1607D\n"
     ]
    },
    {
     "name": "stderr",
     "output_type": "stream",
     "text": [
      "WARNING: W19: ?:?:?: W19: TAP Capabilities must not have an ivo-id other than ivo://ivoa.net/std/TAP [pyvo.io.vosi.tapregext]\n"
     ]
    },
    {
     "name": "stdout",
     "output_type": "stream",
     "text": [
      "1994ApJ...430..467V\n"
     ]
    },
    {
     "name": "stderr",
     "output_type": "stream",
     "text": [
      "WARNING: W19: ?:?:?: W19: TAP Capabilities must not have an ivo-id other than ivo://ivoa.net/std/TAP [pyvo.io.vosi.tapregext]\n"
     ]
    },
    {
     "name": "stdout",
     "output_type": "stream",
     "text": [
      "1985AJ.....90.2445G\n",
      "1983ApJS...51..337F\n"
     ]
    },
    {
     "name": "stderr",
     "output_type": "stream",
     "text": [
      "WARNING: W19: ?:?:?: W19: TAP Capabilities must not have an ivo-id other than ivo://ivoa.net/std/TAP [pyvo.io.vosi.tapregext]\n"
     ]
    },
    {
     "ename": "SystemExit",
     "evalue": "",
     "output_type": "error",
     "traceback": [
      "An exception has occurred, use %tb to see the full traceback.\n",
      "\u001b[0;31mSystemExit\u001b[0m\n"
     ]
    },
    {
     "name": "stderr",
     "output_type": "stream",
     "text": [
      "/opt/anaconda3/envs/FullProcess/lib/python3.10/site-packages/IPython/core/interactiveshell.py:3561: UserWarning: To exit: use 'exit', 'quit', or Ctrl-D.\n",
      "  warn(\"To exit: use 'exit', 'quit', or Ctrl-D.\", stacklevel=1)\n"
     ]
    }
   ],
   "source": [
    "#ipaper = 200\n",
    "\n",
    "paper_success = []\n",
    "\n",
    "for ipaper in range(len(paper_names)):\n",
    "    result_table = Simbad.query_bibobj(paper_names[ipaper])\n",
    "    if result_table is not None:\n",
    "        print(paper_names[ipaper])\n",
    "        paper_success.append(paper_names[ipaper])\n",
    "        if len(paper_success) > 10: import sys; sys.exit()\n",
    "        \n",
    "\n",
    "print(result_table)"
   ]
  },
  {
   "cell_type": "code",
   "execution_count": 125,
   "id": "3a99b6a7-eaa2-4ba3-b547-880b85091749",
   "metadata": {},
   "outputs": [
    {
     "data": {
      "text/plain": [
       "13"
      ]
     },
     "execution_count": 125,
     "metadata": {},
     "output_type": "execute_result"
    }
   ],
   "source": [
    "ipaper"
   ]
  },
  {
   "cell_type": "code",
   "execution_count": 126,
   "id": "b5a6ced4-de50-4965-ad53-b6048035abfb",
   "metadata": {},
   "outputs": [
    {
     "data": {
      "text/html": [
       "<div><i>Table length=10</i>\n",
       "<table id=\"table13029837888\" class=\"table-striped table-bordered table-condensed\">\n",
       "<thead><tr><th>MAIN_ID</th><th>RA</th><th>DEC</th><th>RA_PREC</th><th>DEC_PREC</th><th>COO_ERR_MAJA</th><th>COO_ERR_MINA</th><th>COO_ERR_ANGLE</th><th>COO_QUAL</th><th>COO_WAVELENGTH</th><th>COO_BIBCODE</th><th>SCRIPT_NUMBER_ID</th></tr></thead>\n",
       "<thead><tr><th></th><th>&quot;h:m:s&quot;</th><th>&quot;d:m:s&quot;</th><th></th><th></th><th>mas</th><th>mas</th><th>deg</th><th></th><th></th><th></th><th></th></tr></thead>\n",
       "<thead><tr><th>object</th><th>str13</th><th>str13</th><th>int16</th><th>int16</th><th>float32</th><th>float32</th><th>int16</th><th>str1</th><th>str1</th><th>object</th><th>int32</th></tr></thead>\n",
       "<tr><td>SNR G119.5+10.2</td><td>00 06.6</td><td>+72 47</td><td>3</td><td>3</td><td>--</td><td>--</td><td>0</td><td>E</td><td></td><td>2003A&amp;A...411L..59E</td><td>1</td></tr>\n",
       "<tr><td>SNR G126.2+01.6</td><td>01 22.0</td><td>+64 15</td><td>3</td><td>3</td><td>--</td><td>--</td><td>0</td><td>E</td><td>R</td><td>2009BASI...37...45G</td><td>1</td></tr>\n",
       "<tr><td>SNR G156.4-01.2</td><td>04 28</td><td>+47.1</td><td>2</td><td>2</td><td>--</td><td>--</td><td>0</td><td>E</td><td></td><td></td><td>1</td></tr>\n",
       "<tr><td>SNR G166.0+04.3</td><td>05 26 30.000</td><td>+42 56 00.00</td><td>7</td><td>7</td><td>--</td><td>--</td><td>0</td><td>D</td><td></td><td>2015ApJS..217....2M</td><td>1</td></tr>\n",
       "<tr><td>LBN 166.16+04.52</td><td>05 27.3</td><td>+42 58</td><td>3</td><td>3</td><td>--</td><td>--</td><td>0</td><td>E</td><td>O</td><td>1976A&amp;AS...25...25D</td><td>1</td></tr>\n",
       "<tr><td>IC  443</td><td>06 17 00.0000</td><td>+22 34 11.998</td><td>11</td><td>11</td><td>--</td><td>--</td><td>0</td><td>E</td><td></td><td>2022ApJS..260...53A</td><td>1</td></tr>\n",
       "<tr><td>ESO 134-11</td><td>14 40 29</td><td>-62 38.7</td><td>4</td><td>4</td><td>--</td><td>--</td><td>0</td><td>E</td><td></td><td>1982ESO...C......0L</td><td>1</td></tr>\n",
       "<tr><td>SNR G315.0-02.3</td><td>14 43 00</td><td>-62 30.0</td><td>4</td><td>4</td><td>--</td><td>--</td><td>0</td><td>E</td><td>R</td><td>2014BASI...42...47G</td><td>1</td></tr>\n",
       "<tr><td>SNR G065.2+05.7</td><td>19 33.0</td><td>+31 10</td><td>3</td><td>3</td><td>--</td><td>--</td><td>0</td><td>E</td><td>R</td><td>2009BASI...37...45G</td><td>1</td></tr>\n",
       "<tr><td>NAME Cyg Loop</td><td>20 51.0</td><td>+30 40</td><td>3</td><td>3</td><td>--</td><td>--</td><td>0</td><td>E</td><td>R</td><td>2009BASI...37...45G</td><td>1</td></tr>\n",
       "</table></div>"
      ],
      "text/plain": [
       "<Table length=10>\n",
       "    MAIN_ID            RA      ...     COO_BIBCODE     SCRIPT_NUMBER_ID\n",
       "                    \"h:m:s\"    ...                                     \n",
       "     object          str13     ...        object            int32      \n",
       "---------------- ------------- ... ------------------- ----------------\n",
       " SNR G119.5+10.2       00 06.6 ... 2003A&A...411L..59E                1\n",
       " SNR G126.2+01.6       01 22.0 ... 2009BASI...37...45G                1\n",
       " SNR G156.4-01.2         04 28 ...                                    1\n",
       " SNR G166.0+04.3  05 26 30.000 ... 2015ApJS..217....2M                1\n",
       "LBN 166.16+04.52       05 27.3 ... 1976A&AS...25...25D                1\n",
       "         IC  443 06 17 00.0000 ... 2022ApJS..260...53A                1\n",
       "      ESO 134-11      14 40 29 ... 1982ESO...C......0L                1\n",
       " SNR G315.0-02.3      14 43 00 ... 2014BASI...42...47G                1\n",
       " SNR G065.2+05.7       19 33.0 ... 2009BASI...37...45G                1\n",
       "   NAME Cyg Loop       20 51.0 ... 2009BASI...37...45G                1"
      ]
     },
     "execution_count": 126,
     "metadata": {},
     "output_type": "execute_result"
    }
   ],
   "source": [
    "result_table"
   ]
  },
  {
   "cell_type": "code",
   "execution_count": 127,
   "id": "02a0da94-7333-48f1-83f6-59af3f13c23f",
   "metadata": {},
   "outputs": [
    {
     "data": {
      "text/plain": [
       "9543"
      ]
     },
     "execution_count": 127,
     "metadata": {},
     "output_type": "execute_result"
    }
   ],
   "source": [
    "len(paper_names)"
   ]
  },
  {
   "cell_type": "code",
   "execution_count": 128,
   "id": "627444fe-9e5e-490e-a8d8-8ab18cc9a20f",
   "metadata": {},
   "outputs": [
    {
     "data": {
      "text/html": [
       "<div>\n",
       "<style scoped>\n",
       "    .dataframe tbody tr th:only-of-type {\n",
       "        vertical-align: middle;\n",
       "    }\n",
       "\n",
       "    .dataframe tbody tr th {\n",
       "        vertical-align: top;\n",
       "    }\n",
       "\n",
       "    .dataframe thead th {\n",
       "        text-align: right;\n",
       "    }\n",
       "</style>\n",
       "<table border=\"1\" class=\"dataframe\">\n",
       "  <thead>\n",
       "    <tr style=\"text-align: right;\">\n",
       "      <th></th>\n",
       "      <th>MAIN_ID</th>\n",
       "      <th>RA</th>\n",
       "      <th>DEC</th>\n",
       "      <th>RA_PREC</th>\n",
       "      <th>DEC_PREC</th>\n",
       "      <th>COO_ERR_MAJA</th>\n",
       "      <th>COO_ERR_MINA</th>\n",
       "      <th>COO_ERR_ANGLE</th>\n",
       "      <th>COO_QUAL</th>\n",
       "      <th>COO_WAVELENGTH</th>\n",
       "      <th>COO_BIBCODE</th>\n",
       "      <th>SCRIPT_NUMBER_ID</th>\n",
       "    </tr>\n",
       "  </thead>\n",
       "  <tbody>\n",
       "    <tr>\n",
       "      <th>0</th>\n",
       "      <td>SNR G119.5+10.2</td>\n",
       "      <td>00 06.6</td>\n",
       "      <td>+72 47</td>\n",
       "      <td>3</td>\n",
       "      <td>3</td>\n",
       "      <td>NaN</td>\n",
       "      <td>NaN</td>\n",
       "      <td>0</td>\n",
       "      <td>E</td>\n",
       "      <td></td>\n",
       "      <td>2003A&amp;A...411L..59E</td>\n",
       "      <td>1</td>\n",
       "    </tr>\n",
       "    <tr>\n",
       "      <th>1</th>\n",
       "      <td>SNR G126.2+01.6</td>\n",
       "      <td>01 22.0</td>\n",
       "      <td>+64 15</td>\n",
       "      <td>3</td>\n",
       "      <td>3</td>\n",
       "      <td>NaN</td>\n",
       "      <td>NaN</td>\n",
       "      <td>0</td>\n",
       "      <td>E</td>\n",
       "      <td>R</td>\n",
       "      <td>2009BASI...37...45G</td>\n",
       "      <td>1</td>\n",
       "    </tr>\n",
       "    <tr>\n",
       "      <th>2</th>\n",
       "      <td>SNR G156.4-01.2</td>\n",
       "      <td>04 28</td>\n",
       "      <td>+47.1</td>\n",
       "      <td>2</td>\n",
       "      <td>2</td>\n",
       "      <td>NaN</td>\n",
       "      <td>NaN</td>\n",
       "      <td>0</td>\n",
       "      <td>E</td>\n",
       "      <td></td>\n",
       "      <td></td>\n",
       "      <td>1</td>\n",
       "    </tr>\n",
       "    <tr>\n",
       "      <th>3</th>\n",
       "      <td>SNR G166.0+04.3</td>\n",
       "      <td>05 26 30.000</td>\n",
       "      <td>+42 56 00.00</td>\n",
       "      <td>7</td>\n",
       "      <td>7</td>\n",
       "      <td>NaN</td>\n",
       "      <td>NaN</td>\n",
       "      <td>0</td>\n",
       "      <td>D</td>\n",
       "      <td></td>\n",
       "      <td>2015ApJS..217....2M</td>\n",
       "      <td>1</td>\n",
       "    </tr>\n",
       "    <tr>\n",
       "      <th>4</th>\n",
       "      <td>LBN 166.16+04.52</td>\n",
       "      <td>05 27.3</td>\n",
       "      <td>+42 58</td>\n",
       "      <td>3</td>\n",
       "      <td>3</td>\n",
       "      <td>NaN</td>\n",
       "      <td>NaN</td>\n",
       "      <td>0</td>\n",
       "      <td>E</td>\n",
       "      <td>O</td>\n",
       "      <td>1976A&amp;AS...25...25D</td>\n",
       "      <td>1</td>\n",
       "    </tr>\n",
       "    <tr>\n",
       "      <th>5</th>\n",
       "      <td>IC  443</td>\n",
       "      <td>06 17 00.0000</td>\n",
       "      <td>+22 34 11.998</td>\n",
       "      <td>11</td>\n",
       "      <td>11</td>\n",
       "      <td>NaN</td>\n",
       "      <td>NaN</td>\n",
       "      <td>0</td>\n",
       "      <td>E</td>\n",
       "      <td></td>\n",
       "      <td>2022ApJS..260...53A</td>\n",
       "      <td>1</td>\n",
       "    </tr>\n",
       "    <tr>\n",
       "      <th>6</th>\n",
       "      <td>ESO 134-11</td>\n",
       "      <td>14 40 29</td>\n",
       "      <td>-62 38.7</td>\n",
       "      <td>4</td>\n",
       "      <td>4</td>\n",
       "      <td>NaN</td>\n",
       "      <td>NaN</td>\n",
       "      <td>0</td>\n",
       "      <td>E</td>\n",
       "      <td></td>\n",
       "      <td>1982ESO...C......0L</td>\n",
       "      <td>1</td>\n",
       "    </tr>\n",
       "    <tr>\n",
       "      <th>7</th>\n",
       "      <td>SNR G315.0-02.3</td>\n",
       "      <td>14 43 00</td>\n",
       "      <td>-62 30.0</td>\n",
       "      <td>4</td>\n",
       "      <td>4</td>\n",
       "      <td>NaN</td>\n",
       "      <td>NaN</td>\n",
       "      <td>0</td>\n",
       "      <td>E</td>\n",
       "      <td>R</td>\n",
       "      <td>2014BASI...42...47G</td>\n",
       "      <td>1</td>\n",
       "    </tr>\n",
       "    <tr>\n",
       "      <th>8</th>\n",
       "      <td>SNR G065.2+05.7</td>\n",
       "      <td>19 33.0</td>\n",
       "      <td>+31 10</td>\n",
       "      <td>3</td>\n",
       "      <td>3</td>\n",
       "      <td>NaN</td>\n",
       "      <td>NaN</td>\n",
       "      <td>0</td>\n",
       "      <td>E</td>\n",
       "      <td>R</td>\n",
       "      <td>2009BASI...37...45G</td>\n",
       "      <td>1</td>\n",
       "    </tr>\n",
       "    <tr>\n",
       "      <th>9</th>\n",
       "      <td>NAME Cyg Loop</td>\n",
       "      <td>20 51.0</td>\n",
       "      <td>+30 40</td>\n",
       "      <td>3</td>\n",
       "      <td>3</td>\n",
       "      <td>NaN</td>\n",
       "      <td>NaN</td>\n",
       "      <td>0</td>\n",
       "      <td>E</td>\n",
       "      <td>R</td>\n",
       "      <td>2009BASI...37...45G</td>\n",
       "      <td>1</td>\n",
       "    </tr>\n",
       "  </tbody>\n",
       "</table>\n",
       "</div>"
      ],
      "text/plain": [
       "            MAIN_ID             RA            DEC  RA_PREC  DEC_PREC  \\\n",
       "0   SNR G119.5+10.2        00 06.6         +72 47        3         3   \n",
       "1   SNR G126.2+01.6        01 22.0         +64 15        3         3   \n",
       "2   SNR G156.4-01.2          04 28          +47.1        2         2   \n",
       "3   SNR G166.0+04.3   05 26 30.000   +42 56 00.00        7         7   \n",
       "4  LBN 166.16+04.52        05 27.3         +42 58        3         3   \n",
       "5           IC  443  06 17 00.0000  +22 34 11.998       11        11   \n",
       "6        ESO 134-11       14 40 29       -62 38.7        4         4   \n",
       "7   SNR G315.0-02.3       14 43 00       -62 30.0        4         4   \n",
       "8   SNR G065.2+05.7        19 33.0         +31 10        3         3   \n",
       "9     NAME Cyg Loop        20 51.0         +30 40        3         3   \n",
       "\n",
       "   COO_ERR_MAJA  COO_ERR_MINA  COO_ERR_ANGLE COO_QUAL COO_WAVELENGTH  \\\n",
       "0           NaN           NaN              0        E                  \n",
       "1           NaN           NaN              0        E              R   \n",
       "2           NaN           NaN              0        E                  \n",
       "3           NaN           NaN              0        D                  \n",
       "4           NaN           NaN              0        E              O   \n",
       "5           NaN           NaN              0        E                  \n",
       "6           NaN           NaN              0        E                  \n",
       "7           NaN           NaN              0        E              R   \n",
       "8           NaN           NaN              0        E              R   \n",
       "9           NaN           NaN              0        E              R   \n",
       "\n",
       "           COO_BIBCODE  SCRIPT_NUMBER_ID  \n",
       "0  2003A&A...411L..59E                 1  \n",
       "1  2009BASI...37...45G                 1  \n",
       "2                                      1  \n",
       "3  2015ApJS..217....2M                 1  \n",
       "4  1976A&AS...25...25D                 1  \n",
       "5  2022ApJS..260...53A                 1  \n",
       "6  1982ESO...C......0L                 1  \n",
       "7  2014BASI...42...47G                 1  \n",
       "8  2009BASI...37...45G                 1  \n",
       "9  2009BASI...37...45G                 1  "
      ]
     },
     "execution_count": 128,
     "metadata": {},
     "output_type": "execute_result"
    }
   ],
   "source": []
  },
  {
   "cell_type": "code",
   "execution_count": 144,
   "id": "eb5f0d5f-3771-4969-8df8-54e49d56baf1",
   "metadata": {},
   "outputs": [],
   "source": [
    "iobj = 0\n",
    "\n",
    "img_list3 = SkyView.get_images(position=result_table['MAIN_ID'][0], survey='SwiftXRTCnt', pixels=140)"
   ]
  },
  {
   "cell_type": "code",
   "execution_count": 145,
   "id": "60b550b2-2648-490c-86f7-a9854b77dc0b",
   "metadata": {},
   "outputs": [],
   "source": [
    "# get last img num\n",
    "def get_nextnum():\n",
    "    imgs = glob(save_img_dir + '*.fits')\n",
    "    #imgs\n",
    "    imgnums = []\n",
    "    for im in imgs:\n",
    "        imgnums.append(int(im.split('image_')[-1].split('.fits')[0]))\n",
    "    \n",
    "    nextNum = np.max(imgnums) + 1\n",
    "    return nextNum"
   ]
  },
  {
   "cell_type": "code",
   "execution_count": 146,
   "id": "a7fd6352-97fa-41ef-a1cf-87c0b032c5dd",
   "metadata": {},
   "outputs": [
    {
     "name": "stdout",
     "output_type": "stream",
     "text": [
      "saved: /Users/jnaiman/Downloads/tmp/fake_figs/skyimages/image_0003.fits\n"
     ]
    }
   ],
   "source": [
    "for img in img_list3:\n",
    "    nextNum = get_nextnum()\n",
    "    img.writeto(save_img_dir + 'image_' + str(nextNum).zfill(4) + '.fits')\n",
    "    print('saved:', save_img_dir + 'image_' + str(nextNum).zfill(4) + '.fits')"
   ]
  },
  {
   "cell_type": "code",
   "execution_count": 147,
   "id": "b8138fc5-4119-4865-aea1-568a2cf49bed",
   "metadata": {},
   "outputs": [],
   "source": [
    "icount = 3\n",
    "\n",
    "header_data_unit_list = fits.open(save_img_dir + 'image_'+str(icount).zfill(4) + '.fits')\n",
    "\n",
    "image = header_data_unit_list[0].data\n",
    "header = header_data_unit_list[0].header"
   ]
  },
  {
   "cell_type": "code",
   "execution_count": 148,
   "id": "eb0a660d-f1b6-4098-a8cc-d516eb89ddf8",
   "metadata": {},
   "outputs": [
    {
     "data": {
      "image/png": "[encoded data removed]",
      "text/plain": [
       "<Figure size 1000x1000 with 2 Axes>"
      ]
     },
     "metadata": {},
     "output_type": "display_data"
    }
   ],
   "source": [
    "side = 'right'\n",
    "size = 0.1\n",
    "pad = 0.1\n",
    "#orientation = 'horizontal'\n",
    "orientation = 'vertical'\n",
    "\n",
    "\n",
    "\n",
    "fig = plt.figure(figsize=(10, 10))\n",
    "\n",
    "ax = plt.subplot(projection=wcs_helix)\n",
    "\n",
    "ishow = ax.imshow(image, origin='lower', cmap='cividis', aspect='equal')\n",
    "ax.set_xlabel(r'RA')\n",
    "ax.set_ylabel(r'DEC')\n",
    "\n",
    "size = str(int(round(size*100)))+'%'\n",
    "\n",
    "divider = make_axes_locatable(ax)\n",
    "\n",
    "cax = divider.append_axes(side, size=size, pad=pad, axes_class=maxes.Axes)\n",
    "# the side of the axis\n",
    "if side == 'right': # this maybe should become a random selection?\n",
    "    axis_side = 'right'\n",
    "    cax.yaxis.set_ticks_position(axis_side)\n",
    "elif side == 'left':\n",
    "    axis_side = 'left'\n",
    "    cax.yaxis.set_ticks_position(axis_side)\n",
    "elif side == 'top':\n",
    "    axis_side = 'top'\n",
    "    cax.xaxis.set_ticks_position(axis_side)\n",
    "elif side == 'bottom':\n",
    "    axis_side = 'bottom'\n",
    "    cax.xaxis.set_ticks_position(axis_side)\n",
    "\n",
    "\n",
    "cbar = fig.colorbar(ishow, \n",
    "             cax=cax, \n",
    "             orientation=orientation)\n",
    "\n",
    "# #plt.draw()\n",
    "\n",
    "# #cbar.xaxis.set_xticks([])\n",
    "# cbar.ax.xaxis.set_ticks([])\n",
    "\n",
    "plt.show()"
   ]
  },
  {
   "cell_type": "code",
   "execution_count": 149,
   "id": "9de05576-7355-4d90-bc0b-925981a60bbe",
   "metadata": {},
   "outputs": [
    {
     "data": {
      "text/plain": [
       "\u001b[0;31mSignature:\u001b[0m\n",
       "\u001b[0mSkyView\u001b[0m\u001b[0;34m.\u001b[0m\u001b[0mget_images\u001b[0m\u001b[0;34m(\u001b[0m\u001b[0;34m\u001b[0m\n",
       "\u001b[0;34m\u001b[0m    \u001b[0mposition\u001b[0m\u001b[0;34m,\u001b[0m\u001b[0;34m\u001b[0m\n",
       "\u001b[0;34m\u001b[0m    \u001b[0msurvey\u001b[0m\u001b[0;34m,\u001b[0m\u001b[0;34m\u001b[0m\n",
       "\u001b[0;34m\u001b[0m    \u001b[0;34m*\u001b[0m\u001b[0;34m,\u001b[0m\u001b[0;34m\u001b[0m\n",
       "\u001b[0;34m\u001b[0m    \u001b[0mcoordinates\u001b[0m\u001b[0;34m=\u001b[0m\u001b[0;32mNone\u001b[0m\u001b[0;34m,\u001b[0m\u001b[0;34m\u001b[0m\n",
       "\u001b[0;34m\u001b[0m    \u001b[0mprojection\u001b[0m\u001b[0;34m=\u001b[0m\u001b[0;32mNone\u001b[0m\u001b[0;34m,\u001b[0m\u001b[0;34m\u001b[0m\n",
       "\u001b[0;34m\u001b[0m    \u001b[0mpixels\u001b[0m\u001b[0;34m=\u001b[0m\u001b[0;32mNone\u001b[0m\u001b[0;34m,\u001b[0m\u001b[0;34m\u001b[0m\n",
       "\u001b[0;34m\u001b[0m    \u001b[0mscaling\u001b[0m\u001b[0;34m=\u001b[0m\u001b[0;32mNone\u001b[0m\u001b[0;34m,\u001b[0m\u001b[0;34m\u001b[0m\n",
       "\u001b[0;34m\u001b[0m    \u001b[0msampler\u001b[0m\u001b[0;34m=\u001b[0m\u001b[0;32mNone\u001b[0m\u001b[0;34m,\u001b[0m\u001b[0;34m\u001b[0m\n",
       "\u001b[0;34m\u001b[0m    \u001b[0mresolver\u001b[0m\u001b[0;34m=\u001b[0m\u001b[0;32mNone\u001b[0m\u001b[0;34m,\u001b[0m\u001b[0;34m\u001b[0m\n",
       "\u001b[0;34m\u001b[0m    \u001b[0mdeedger\u001b[0m\u001b[0;34m=\u001b[0m\u001b[0;32mNone\u001b[0m\u001b[0;34m,\u001b[0m\u001b[0;34m\u001b[0m\n",
       "\u001b[0;34m\u001b[0m    \u001b[0mlut\u001b[0m\u001b[0;34m=\u001b[0m\u001b[0;32mNone\u001b[0m\u001b[0;34m,\u001b[0m\u001b[0;34m\u001b[0m\n",
       "\u001b[0;34m\u001b[0m    \u001b[0mgrid\u001b[0m\u001b[0;34m=\u001b[0m\u001b[0;32mNone\u001b[0m\u001b[0;34m,\u001b[0m\u001b[0;34m\u001b[0m\n",
       "\u001b[0;34m\u001b[0m    \u001b[0mgridlabels\u001b[0m\u001b[0;34m=\u001b[0m\u001b[0;32mNone\u001b[0m\u001b[0;34m,\u001b[0m\u001b[0;34m\u001b[0m\n",
       "\u001b[0;34m\u001b[0m    \u001b[0mradius\u001b[0m\u001b[0;34m=\u001b[0m\u001b[0;32mNone\u001b[0m\u001b[0;34m,\u001b[0m\u001b[0;34m\u001b[0m\n",
       "\u001b[0;34m\u001b[0m    \u001b[0mheight\u001b[0m\u001b[0;34m=\u001b[0m\u001b[0;32mNone\u001b[0m\u001b[0;34m,\u001b[0m\u001b[0;34m\u001b[0m\n",
       "\u001b[0;34m\u001b[0m    \u001b[0mwidth\u001b[0m\u001b[0;34m=\u001b[0m\u001b[0;32mNone\u001b[0m\u001b[0;34m,\u001b[0m\u001b[0;34m\u001b[0m\n",
       "\u001b[0;34m\u001b[0m    \u001b[0mcache\u001b[0m\u001b[0;34m=\u001b[0m\u001b[0;32mTrue\u001b[0m\u001b[0;34m,\u001b[0m\u001b[0;34m\u001b[0m\n",
       "\u001b[0;34m\u001b[0m    \u001b[0mshow_progress\u001b[0m\u001b[0;34m=\u001b[0m\u001b[0;32mTrue\u001b[0m\u001b[0;34m,\u001b[0m\u001b[0;34m\u001b[0m\n",
       "\u001b[0;34m\u001b[0m\u001b[0;34m)\u001b[0m\u001b[0;34m\u001b[0m\u001b[0;34m\u001b[0m\u001b[0m\n",
       "\u001b[0;31mDocstring:\u001b[0m\n",
       "Query the SkyView service, download the FITS file that will be\n",
       "found and return a generator over the local paths to the\n",
       "downloaded FITS files.\n",
       "\n",
       "Note that the files will be downloaded when the generator will be\n",
       "exhausted, i.e. just calling this method alone without iterating\n",
       "over the result won't issue a connection to the SkyView server.\n",
       "\n",
       "Parameters\n",
       "----------\n",
       "position : str\n",
       "    Determines the center of the field to be retrieved. Both\n",
       "    coordinates (also equatorial ones) and object names are\n",
       "    supported. Object names are converted to coordinates via the\n",
       "    SIMBAD or NED name resolver. See the reference for more info\n",
       "    on the supported syntax for coordinates.\n",
       "survey : str or list of str\n",
       "    Select data from one or more surveys. The number of surveys\n",
       "    determines the number of resulting file downloads. Passing a\n",
       "    list with just one string has the same effect as passing this\n",
       "    string directly.\n",
       "coordinates : str\n",
       "    Choose among common equatorial, galactic and ecliptic\n",
       "    coordinate systems (``\"J2000\"``, ``\"B1950\"``, ``\"Galactic\"``,\n",
       "    ``\"E2000\"``, ``\"ICRS\"``) or pass a custom string.\n",
       "projection : str\n",
       "    Choose among the map projections (the value in parentheses\n",
       "    denotes the string to be passed):\n",
       "\n",
       "    Gnomonic (Tan), default value\n",
       "        good for small regions\n",
       "    Rectangular (Car)\n",
       "        simplest projection\n",
       "    Aitoff (Ait)\n",
       "        Hammer-Aitoff, equal area projection good for all sky maps\n",
       "    Orthographic (Sin)\n",
       "        Projection often used in interferometry\n",
       "    Zenith Equal Area (Zea)\n",
       "        equal area, azimuthal projection\n",
       "    COBE Spherical Cube (Csc)\n",
       "        Used in COBE data\n",
       "    Arc (Arc)\n",
       "        Similar to Zea but not equal-area\n",
       "pixels : str\n",
       "    Selects the pixel dimensions of the image to be produced. A\n",
       "    scalar value or a pair of values separated by comma may be\n",
       "    given. If the value is a scalar the number of width and height\n",
       "    of the image will be the same. By default a 300x300 image is\n",
       "    produced.\n",
       "scaling : str\n",
       "    Selects the transformation between pixel intensity and\n",
       "    intensity on the displayed image. The supported values are:\n",
       "    ``\"Log\"``, ``\"Sqrt\"``, ``\"Linear\"``, ``\"HistEq\"``,\n",
       "    ``\"LogLog\"``.\n",
       "sampler : str\n",
       "    The sampling algorithm determines how the data requested will\n",
       "    be resampled so that it can be displayed.\n",
       "resolver : str\n",
       "    The name resolver allows to choose a name resolver to use when\n",
       "    looking up a name which was passed in the ``position`` parameter\n",
       "    (as opposed to a numeric coordinate value). The default choice\n",
       "    is to call the SIMBAD name resolver first and then the NED\n",
       "    name resolver if the SIMBAD search fails.\n",
       "deedger : str\n",
       "    When multiple input images with different backgrounds are\n",
       "    resampled the edges between the images may be apparent because\n",
       "    of the background shift. This parameter makes it possible to\n",
       "    attempt to minimize these edges by applying a de-edging\n",
       "    algorithm. The user can elect to choose the default given for\n",
       "    that survey, to turn de-edging off, or to use the default\n",
       "    de-edging algorithm. The supported values are: ``\"_skip_\"`` to\n",
       "    use the survey default, ``\"skyview.process.Deedger\"`` (for\n",
       "    enabling de-edging), and ``\"null\"`` to disable.\n",
       "lut : str\n",
       "    Choose from the color table selections to display the data in\n",
       "    false color.\n",
       "grid : bool\n",
       "    overlay a coordinate grid on the image if True\n",
       "gridlabels : bool\n",
       "    annotate the grid with coordinates positions if True\n",
       "radius : `~astropy.units.Quantity` or None\n",
       "    The angular radius of the specified field.\n",
       "    Overrides the ``width`` and ``height`` parameters.\n",
       "width : `~astropy.units.Quantity` or None\n",
       "    The width of the specified field.  Must be specified\n",
       "    with ``height``.\n",
       "height : `~astropy.units.Quantity` or None\n",
       "    The height of the specified field.  Must be specified\n",
       "    with ``width``.\n",
       "cache : bool\n",
       "    Defaults to True. If set overrides global caching behavior.\n",
       "    See :ref:`caching documentation <astroquery_cache>`.\n",
       "\n",
       "References\n",
       "----------\n",
       ".. [1] http://skyview.gsfc.nasa.gov/current/help/fields.html\n",
       "\n",
       "Examples\n",
       "--------\n",
       ">>> sv = SkyView()\n",
       ">>> paths = sv.get_images(position='Eta Carinae',\n",
       "...                       survey=['Fermi 5', 'HRI', 'DSS'])\n",
       ">>> for path in paths:\n",
       "...     print(' new file:', path)\n",
       "\n",
       "Returns\n",
       "-------\n",
       "A list of `~astropy.io.fits.HDUList` objects.\n",
       "\u001b[0;31mFile:\u001b[0m      /opt/anaconda3/envs/FullProcess/lib/python3.10/site-packages/astroquery/skyview/core.py\n",
       "\u001b[0;31mType:\u001b[0m      method"
      ]
     },
     "metadata": {},
     "output_type": "display_data"
    }
   ],
   "source": [
    "SkyView.get_images?"
   ]
  },
  {
   "cell_type": "code",
   "execution_count": null,
   "id": "fb5ea7a2-c102-4147-a10b-606b52d44a8c",
   "metadata": {},
   "outputs": [],
   "source": []
  }
 ],
 "metadata": {
  "kernelspec": {
   "display_name": "Python 3 (ipykernel)",
   "language": "python",
   "name": "python3"
  },
  "language_info": {
   "codemirror_mode": {
    "name": "ipython",
    "version": 3
   },
   "file_extension": ".py",
   "mimetype": "text/x-python",
   "name": "python",
   "nbconvert_exporter": "python",
   "pygments_lexer": "ipython3",
   "version": "3.10.9"
  }
 },
 "nbformat": 4,
 "nbformat_minor": 5
}
